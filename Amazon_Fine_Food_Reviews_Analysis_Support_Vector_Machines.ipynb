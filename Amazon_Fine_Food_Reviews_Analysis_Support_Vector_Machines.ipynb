{
 "cells": [
  {
   "cell_type": "markdown",
   "metadata": {
    "colab_type": "text",
    "id": "Ywf21Inhmhhd"
   },
   "source": [
    "## SVM using Amazon Fine food reviews"
   ]
  },
  {
   "cell_type": "code",
   "execution_count": 0,
   "metadata": {
    "colab": {},
    "colab_type": "code",
    "id": "QY3O4EeHkYhw"
   },
   "outputs": [],
   "source": [
    "%matplotlib inline\n",
    "import warnings\n",
    "warnings.filterwarnings(\"ignore\")\n",
    "\n",
    "\n",
    "import sqlite3\n",
    "import pandas as pd\n",
    "import numpy as np\n",
    "import nltk\n",
    "import string\n",
    "import matplotlib.pyplot as plt\n",
    "import seaborn as sns\n",
    "from sklearn.feature_extraction.text import TfidfTransformer\n",
    "from sklearn.feature_extraction.text import TfidfVectorizer\n",
    "\n",
    "from sklearn.feature_extraction.text import CountVectorizer\n",
    "from sklearn.metrics import confusion_matrix\n",
    "from sklearn import metrics\n",
    "from sklearn.metrics import roc_curve, auc\n",
    "from nltk.stem.porter import PorterStemmer\n",
    "\n",
    "import re\n",
    "# Tutorial about Python regular expressions: https://pymotw.com/2/re/\n",
    "import string\n",
    "from nltk.corpus import stopwords\n",
    "from nltk.stem import PorterStemmer\n",
    "from nltk.stem.wordnet import WordNetLemmatizer\n",
    "\n",
    "from gensim.models import Word2Vec\n",
    "from gensim.models import KeyedVectors\n",
    "import pickle\n",
    "\n",
    "from tqdm import tqdm\n",
    "import os"
   ]
  },
  {
   "cell_type": "code",
   "execution_count": 34,
   "metadata": {
    "colab": {
     "base_uri": "https://localhost:8080/",
     "height": 244
    },
    "colab_type": "code",
    "id": "ryGFzEszkYiu",
    "outputId": "8942480f-50e9-4bf7-ae18-3cd737be3ab4"
   },
   "outputs": [
    {
     "name": "stdout",
     "output_type": "stream",
     "text": [
      "Number of data points in our data (130000, 10)\n"
     ]
    },
    {
     "data": {
      "text/html": [
       "<div>\n",
       "<style scoped>\n",
       "    .dataframe tbody tr th:only-of-type {\n",
       "        vertical-align: middle;\n",
       "    }\n",
       "\n",
       "    .dataframe tbody tr th {\n",
       "        vertical-align: top;\n",
       "    }\n",
       "\n",
       "    .dataframe thead th {\n",
       "        text-align: right;\n",
       "    }\n",
       "</style>\n",
       "<table border=\"1\" class=\"dataframe\">\n",
       "  <thead>\n",
       "    <tr style=\"text-align: right;\">\n",
       "      <th></th>\n",
       "      <th>Id</th>\n",
       "      <th>ProductId</th>\n",
       "      <th>UserId</th>\n",
       "      <th>ProfileName</th>\n",
       "      <th>HelpfulnessNumerator</th>\n",
       "      <th>HelpfulnessDenominator</th>\n",
       "      <th>Score</th>\n",
       "      <th>Time</th>\n",
       "      <th>Summary</th>\n",
       "      <th>Text</th>\n",
       "    </tr>\n",
       "  </thead>\n",
       "  <tbody>\n",
       "    <tr>\n",
       "      <th>0</th>\n",
       "      <td>1</td>\n",
       "      <td>B001E4KFG0</td>\n",
       "      <td>A3SGXH7AUHU8GW</td>\n",
       "      <td>delmartian</td>\n",
       "      <td>1</td>\n",
       "      <td>1</td>\n",
       "      <td>1</td>\n",
       "      <td>1303862400</td>\n",
       "      <td>Good Quality Dog Food</td>\n",
       "      <td>I have bought several of the Vitality canned d...</td>\n",
       "    </tr>\n",
       "    <tr>\n",
       "      <th>1</th>\n",
       "      <td>2</td>\n",
       "      <td>B00813GRG4</td>\n",
       "      <td>A1D87F6ZCVE5NK</td>\n",
       "      <td>dll pa</td>\n",
       "      <td>0</td>\n",
       "      <td>0</td>\n",
       "      <td>0</td>\n",
       "      <td>1346976000</td>\n",
       "      <td>Not as Advertised</td>\n",
       "      <td>Product arrived labeled as Jumbo Salted Peanut...</td>\n",
       "    </tr>\n",
       "    <tr>\n",
       "      <th>2</th>\n",
       "      <td>3</td>\n",
       "      <td>B000LQOCH0</td>\n",
       "      <td>ABXLMWJIXXAIN</td>\n",
       "      <td>Natalia Corres \"Natalia Corres\"</td>\n",
       "      <td>1</td>\n",
       "      <td>1</td>\n",
       "      <td>1</td>\n",
       "      <td>1219017600</td>\n",
       "      <td>\"Delight\" says it all</td>\n",
       "      <td>This is a confection that has been around a fe...</td>\n",
       "    </tr>\n",
       "  </tbody>\n",
       "</table>\n",
       "</div>"
      ],
      "text/plain": [
       "   Id   ProductId          UserId                      ProfileName  \\\n",
       "0   1  B001E4KFG0  A3SGXH7AUHU8GW                       delmartian   \n",
       "1   2  B00813GRG4  A1D87F6ZCVE5NK                           dll pa   \n",
       "2   3  B000LQOCH0   ABXLMWJIXXAIN  Natalia Corres \"Natalia Corres\"   \n",
       "\n",
       "   HelpfulnessNumerator  HelpfulnessDenominator  Score        Time  \\\n",
       "0                     1                       1      1  1303862400   \n",
       "1                     0                       0      0  1346976000   \n",
       "2                     1                       1      1  1219017600   \n",
       "\n",
       "                 Summary                                               Text  \n",
       "0  Good Quality Dog Food  I have bought several of the Vitality canned d...  \n",
       "1      Not as Advertised  Product arrived labeled as Jumbo Salted Peanut...  \n",
       "2  \"Delight\" says it all  This is a confection that has been around a fe...  "
      ]
     },
     "execution_count": 34,
     "metadata": {
      "tags": []
     },
     "output_type": "execute_result"
    }
   ],
   "source": [
    "# using SQLite Table to read data.\n",
    "con = sqlite3.connect('/content/drive/My Drive/database.sqlite') \n",
    "\n",
    "# filtering only positive and negative reviews i.e. \n",
    "# not taking into consideration those reviews with Score=3\n",
    "# SELECT * FROM Reviews WHERE Score != 3 LIMIT 500000, will give top 500000 data points\n",
    "# you can change the number to any other number based on your computing power\n",
    "\n",
    "# filtered_data = pd.read_sql_query(\"\"\" SELECT * FROM Reviews WHERE Score != 3 LIMIT 500000\"\"\", con) \n",
    "# for tsne assignment you can take 5k data points\n",
    "\n",
    "filtered_data = pd.read_sql_query(\"\"\" SELECT * FROM Reviews WHERE Score != 3 LIMIT 130000\"\"\", con) \n",
    "\n",
    "# Give reviews with Score>3 a positive rating(1), and reviews with a score<3 a negative rating(0).\n",
    "def partition(x):\n",
    "    if x < 3:\n",
    "        return 0\n",
    "    return 1\n",
    "\n",
    "#changing reviews with score less than 3 to be positive and vice-versa\n",
    "actualScore = filtered_data['Score']\n",
    "positiveNegative = actualScore.map(partition) \n",
    "filtered_data['Score'] = positiveNegative\n",
    "print(\"Number of data points in our data\", filtered_data.shape)\n",
    "filtered_data.head(3)"
   ]
  },
  {
   "cell_type": "code",
   "execution_count": 0,
   "metadata": {
    "colab": {},
    "colab_type": "code",
    "id": "OGfTcXawkYjG"
   },
   "outputs": [],
   "source": [
    "display = pd.read_sql_query(\"\"\"\n",
    "SELECT UserId, ProductId, ProfileName, Time, Score, Text, COUNT(*)\n",
    "FROM Reviews\n",
    "GROUP BY UserId\n",
    "HAVING COUNT(*)>1\n",
    "\"\"\", con)"
   ]
  },
  {
   "cell_type": "code",
   "execution_count": 36,
   "metadata": {
    "colab": {
     "base_uri": "https://localhost:8080/",
     "height": 221
    },
    "colab_type": "code",
    "id": "D5AgNH2SkYjU",
    "outputId": "5e1cd066-03cc-44f4-8bac-72d33a518c1a",
    "scrolled": true
   },
   "outputs": [
    {
     "name": "stdout",
     "output_type": "stream",
     "text": [
      "(80668, 7)\n"
     ]
    },
    {
     "data": {
      "text/html": [
       "<div>\n",
       "<style scoped>\n",
       "    .dataframe tbody tr th:only-of-type {\n",
       "        vertical-align: middle;\n",
       "    }\n",
       "\n",
       "    .dataframe tbody tr th {\n",
       "        vertical-align: top;\n",
       "    }\n",
       "\n",
       "    .dataframe thead th {\n",
       "        text-align: right;\n",
       "    }\n",
       "</style>\n",
       "<table border=\"1\" class=\"dataframe\">\n",
       "  <thead>\n",
       "    <tr style=\"text-align: right;\">\n",
       "      <th></th>\n",
       "      <th>UserId</th>\n",
       "      <th>ProductId</th>\n",
       "      <th>ProfileName</th>\n",
       "      <th>Time</th>\n",
       "      <th>Score</th>\n",
       "      <th>Text</th>\n",
       "      <th>COUNT(*)</th>\n",
       "    </tr>\n",
       "  </thead>\n",
       "  <tbody>\n",
       "    <tr>\n",
       "      <th>0</th>\n",
       "      <td>#oc-R115TNMSPFT9I7</td>\n",
       "      <td>B007Y59HVM</td>\n",
       "      <td>Breyton</td>\n",
       "      <td>1331510400</td>\n",
       "      <td>2</td>\n",
       "      <td>Overall its just OK when considering the price...</td>\n",
       "      <td>2</td>\n",
       "    </tr>\n",
       "    <tr>\n",
       "      <th>1</th>\n",
       "      <td>#oc-R11D9D7SHXIJB9</td>\n",
       "      <td>B005HG9ET0</td>\n",
       "      <td>Louis E. Emory \"hoppy\"</td>\n",
       "      <td>1342396800</td>\n",
       "      <td>5</td>\n",
       "      <td>My wife has recurring extreme muscle spasms, u...</td>\n",
       "      <td>3</td>\n",
       "    </tr>\n",
       "    <tr>\n",
       "      <th>2</th>\n",
       "      <td>#oc-R11DNU2NBKQ23Z</td>\n",
       "      <td>B007Y59HVM</td>\n",
       "      <td>Kim Cieszykowski</td>\n",
       "      <td>1348531200</td>\n",
       "      <td>1</td>\n",
       "      <td>This coffee is horrible and unfortunately not ...</td>\n",
       "      <td>2</td>\n",
       "    </tr>\n",
       "    <tr>\n",
       "      <th>3</th>\n",
       "      <td>#oc-R11O5J5ZVQE25C</td>\n",
       "      <td>B005HG9ET0</td>\n",
       "      <td>Penguin Chick</td>\n",
       "      <td>1346889600</td>\n",
       "      <td>5</td>\n",
       "      <td>This will be the bottle that you grab from the...</td>\n",
       "      <td>3</td>\n",
       "    </tr>\n",
       "    <tr>\n",
       "      <th>4</th>\n",
       "      <td>#oc-R12KPBODL2B5ZD</td>\n",
       "      <td>B007OSBE1U</td>\n",
       "      <td>Christopher P. Presta</td>\n",
       "      <td>1348617600</td>\n",
       "      <td>1</td>\n",
       "      <td>I didnt like this coffee. Instead of telling y...</td>\n",
       "      <td>2</td>\n",
       "    </tr>\n",
       "  </tbody>\n",
       "</table>\n",
       "</div>"
      ],
      "text/plain": [
       "               UserId   ProductId             ProfileName        Time  Score  \\\n",
       "0  #oc-R115TNMSPFT9I7  B007Y59HVM                 Breyton  1331510400      2   \n",
       "1  #oc-R11D9D7SHXIJB9  B005HG9ET0  Louis E. Emory \"hoppy\"  1342396800      5   \n",
       "2  #oc-R11DNU2NBKQ23Z  B007Y59HVM        Kim Cieszykowski  1348531200      1   \n",
       "3  #oc-R11O5J5ZVQE25C  B005HG9ET0           Penguin Chick  1346889600      5   \n",
       "4  #oc-R12KPBODL2B5ZD  B007OSBE1U   Christopher P. Presta  1348617600      1   \n",
       "\n",
       "                                                Text  COUNT(*)  \n",
       "0  Overall its just OK when considering the price...         2  \n",
       "1  My wife has recurring extreme muscle spasms, u...         3  \n",
       "2  This coffee is horrible and unfortunately not ...         2  \n",
       "3  This will be the bottle that you grab from the...         3  \n",
       "4  I didnt like this coffee. Instead of telling y...         2  "
      ]
     },
     "execution_count": 36,
     "metadata": {
      "tags": []
     },
     "output_type": "execute_result"
    }
   ],
   "source": [
    "print(display.shape)\n",
    "display.head()"
   ]
  },
  {
   "cell_type": "code",
   "execution_count": 37,
   "metadata": {
    "colab": {
     "base_uri": "https://localhost:8080/",
     "height": 80
    },
    "colab_type": "code",
    "id": "S87s66iYkYjh",
    "outputId": "634a6738-855c-4511-ca63-c90d22b2d45e"
   },
   "outputs": [
    {
     "data": {
      "text/html": [
       "<div>\n",
       "<style scoped>\n",
       "    .dataframe tbody tr th:only-of-type {\n",
       "        vertical-align: middle;\n",
       "    }\n",
       "\n",
       "    .dataframe tbody tr th {\n",
       "        vertical-align: top;\n",
       "    }\n",
       "\n",
       "    .dataframe thead th {\n",
       "        text-align: right;\n",
       "    }\n",
       "</style>\n",
       "<table border=\"1\" class=\"dataframe\">\n",
       "  <thead>\n",
       "    <tr style=\"text-align: right;\">\n",
       "      <th></th>\n",
       "      <th>UserId</th>\n",
       "      <th>ProductId</th>\n",
       "      <th>ProfileName</th>\n",
       "      <th>Time</th>\n",
       "      <th>Score</th>\n",
       "      <th>Text</th>\n",
       "      <th>COUNT(*)</th>\n",
       "    </tr>\n",
       "  </thead>\n",
       "  <tbody>\n",
       "    <tr>\n",
       "      <th>80638</th>\n",
       "      <td>AZY10LLTJ71NX</td>\n",
       "      <td>B006P7E5ZI</td>\n",
       "      <td>undertheshrine \"undertheshrine\"</td>\n",
       "      <td>1334707200</td>\n",
       "      <td>5</td>\n",
       "      <td>I was recommended to try green tea extract to ...</td>\n",
       "      <td>5</td>\n",
       "    </tr>\n",
       "  </tbody>\n",
       "</table>\n",
       "</div>"
      ],
      "text/plain": [
       "              UserId   ProductId                      ProfileName        Time  \\\n",
       "80638  AZY10LLTJ71NX  B006P7E5ZI  undertheshrine \"undertheshrine\"  1334707200   \n",
       "\n",
       "       Score                                               Text  COUNT(*)  \n",
       "80638      5  I was recommended to try green tea extract to ...         5  "
      ]
     },
     "execution_count": 37,
     "metadata": {
      "tags": []
     },
     "output_type": "execute_result"
    }
   ],
   "source": [
    "display[display['UserId']=='AZY10LLTJ71NX']"
   ]
  },
  {
   "cell_type": "code",
   "execution_count": 38,
   "metadata": {
    "colab": {
     "base_uri": "https://localhost:8080/",
     "height": 34
    },
    "colab_type": "code",
    "id": "HWAhqnQKkYjx",
    "outputId": "94be25ea-4c17-4fc8-ffed-e950a56b6836"
   },
   "outputs": [
    {
     "data": {
      "text/plain": [
       "393063"
      ]
     },
     "execution_count": 38,
     "metadata": {
      "tags": []
     },
     "output_type": "execute_result"
    }
   ],
   "source": [
    "display['COUNT(*)'].sum()"
   ]
  },
  {
   "cell_type": "markdown",
   "metadata": {
    "colab_type": "text",
    "id": "32hh2SoKkYkL"
   },
   "source": [
    "#  Exploratory Data Analysis"
   ]
  },
  {
   "cell_type": "markdown",
   "metadata": {
    "colab_type": "text",
    "id": "wTgYNk7ikYkR"
   },
   "source": [
    "## Data Cleaning: Deduplication\n",
    "\n",
    "It is observed (as shown in the table below) that the reviews data had many duplicate entries. Hence it was necessary to remove duplicates in order to get unbiased results for the analysis of the data.  Following is an example:"
   ]
  },
  {
   "cell_type": "code",
   "execution_count": 39,
   "metadata": {
    "colab": {
     "base_uri": "https://localhost:8080/",
     "height": 459
    },
    "colab_type": "code",
    "id": "bwqvhkPckYkU",
    "outputId": "c677300b-ccf6-43a9-d22a-e792d207b4bf",
    "scrolled": false
   },
   "outputs": [
    {
     "data": {
      "text/html": [
       "<div>\n",
       "<style scoped>\n",
       "    .dataframe tbody tr th:only-of-type {\n",
       "        vertical-align: middle;\n",
       "    }\n",
       "\n",
       "    .dataframe tbody tr th {\n",
       "        vertical-align: top;\n",
       "    }\n",
       "\n",
       "    .dataframe thead th {\n",
       "        text-align: right;\n",
       "    }\n",
       "</style>\n",
       "<table border=\"1\" class=\"dataframe\">\n",
       "  <thead>\n",
       "    <tr style=\"text-align: right;\">\n",
       "      <th></th>\n",
       "      <th>Id</th>\n",
       "      <th>ProductId</th>\n",
       "      <th>UserId</th>\n",
       "      <th>ProfileName</th>\n",
       "      <th>HelpfulnessNumerator</th>\n",
       "      <th>HelpfulnessDenominator</th>\n",
       "      <th>Score</th>\n",
       "      <th>Time</th>\n",
       "      <th>Summary</th>\n",
       "      <th>Text</th>\n",
       "    </tr>\n",
       "  </thead>\n",
       "  <tbody>\n",
       "    <tr>\n",
       "      <th>0</th>\n",
       "      <td>78445</td>\n",
       "      <td>B000HDL1RQ</td>\n",
       "      <td>AR5J8UI46CURR</td>\n",
       "      <td>Geetha Krishnan</td>\n",
       "      <td>2</td>\n",
       "      <td>2</td>\n",
       "      <td>5</td>\n",
       "      <td>1199577600</td>\n",
       "      <td>LOACKER QUADRATINI VANILLA WAFERS</td>\n",
       "      <td>DELICIOUS WAFERS. I FIND THAT EUROPEAN WAFERS ...</td>\n",
       "    </tr>\n",
       "    <tr>\n",
       "      <th>1</th>\n",
       "      <td>138317</td>\n",
       "      <td>B000HDOPYC</td>\n",
       "      <td>AR5J8UI46CURR</td>\n",
       "      <td>Geetha Krishnan</td>\n",
       "      <td>2</td>\n",
       "      <td>2</td>\n",
       "      <td>5</td>\n",
       "      <td>1199577600</td>\n",
       "      <td>LOACKER QUADRATINI VANILLA WAFERS</td>\n",
       "      <td>DELICIOUS WAFERS. I FIND THAT EUROPEAN WAFERS ...</td>\n",
       "    </tr>\n",
       "    <tr>\n",
       "      <th>2</th>\n",
       "      <td>138277</td>\n",
       "      <td>B000HDOPYM</td>\n",
       "      <td>AR5J8UI46CURR</td>\n",
       "      <td>Geetha Krishnan</td>\n",
       "      <td>2</td>\n",
       "      <td>2</td>\n",
       "      <td>5</td>\n",
       "      <td>1199577600</td>\n",
       "      <td>LOACKER QUADRATINI VANILLA WAFERS</td>\n",
       "      <td>DELICIOUS WAFERS. I FIND THAT EUROPEAN WAFERS ...</td>\n",
       "    </tr>\n",
       "    <tr>\n",
       "      <th>3</th>\n",
       "      <td>73791</td>\n",
       "      <td>B000HDOPZG</td>\n",
       "      <td>AR5J8UI46CURR</td>\n",
       "      <td>Geetha Krishnan</td>\n",
       "      <td>2</td>\n",
       "      <td>2</td>\n",
       "      <td>5</td>\n",
       "      <td>1199577600</td>\n",
       "      <td>LOACKER QUADRATINI VANILLA WAFERS</td>\n",
       "      <td>DELICIOUS WAFERS. I FIND THAT EUROPEAN WAFERS ...</td>\n",
       "    </tr>\n",
       "    <tr>\n",
       "      <th>4</th>\n",
       "      <td>155049</td>\n",
       "      <td>B000PAQ75C</td>\n",
       "      <td>AR5J8UI46CURR</td>\n",
       "      <td>Geetha Krishnan</td>\n",
       "      <td>2</td>\n",
       "      <td>2</td>\n",
       "      <td>5</td>\n",
       "      <td>1199577600</td>\n",
       "      <td>LOACKER QUADRATINI VANILLA WAFERS</td>\n",
       "      <td>DELICIOUS WAFERS. I FIND THAT EUROPEAN WAFERS ...</td>\n",
       "    </tr>\n",
       "  </tbody>\n",
       "</table>\n",
       "</div>"
      ],
      "text/plain": [
       "       Id   ProductId         UserId      ProfileName  HelpfulnessNumerator  \\\n",
       "0   78445  B000HDL1RQ  AR5J8UI46CURR  Geetha Krishnan                     2   \n",
       "1  138317  B000HDOPYC  AR5J8UI46CURR  Geetha Krishnan                     2   \n",
       "2  138277  B000HDOPYM  AR5J8UI46CURR  Geetha Krishnan                     2   \n",
       "3   73791  B000HDOPZG  AR5J8UI46CURR  Geetha Krishnan                     2   \n",
       "4  155049  B000PAQ75C  AR5J8UI46CURR  Geetha Krishnan                     2   \n",
       "\n",
       "   HelpfulnessDenominator  Score        Time  \\\n",
       "0                       2      5  1199577600   \n",
       "1                       2      5  1199577600   \n",
       "2                       2      5  1199577600   \n",
       "3                       2      5  1199577600   \n",
       "4                       2      5  1199577600   \n",
       "\n",
       "                             Summary  \\\n",
       "0  LOACKER QUADRATINI VANILLA WAFERS   \n",
       "1  LOACKER QUADRATINI VANILLA WAFERS   \n",
       "2  LOACKER QUADRATINI VANILLA WAFERS   \n",
       "3  LOACKER QUADRATINI VANILLA WAFERS   \n",
       "4  LOACKER QUADRATINI VANILLA WAFERS   \n",
       "\n",
       "                                                Text  \n",
       "0  DELICIOUS WAFERS. I FIND THAT EUROPEAN WAFERS ...  \n",
       "1  DELICIOUS WAFERS. I FIND THAT EUROPEAN WAFERS ...  \n",
       "2  DELICIOUS WAFERS. I FIND THAT EUROPEAN WAFERS ...  \n",
       "3  DELICIOUS WAFERS. I FIND THAT EUROPEAN WAFERS ...  \n",
       "4  DELICIOUS WAFERS. I FIND THAT EUROPEAN WAFERS ...  "
      ]
     },
     "execution_count": 39,
     "metadata": {
      "tags": []
     },
     "output_type": "execute_result"
    }
   ],
   "source": [
    "display= pd.read_sql_query(\"\"\"\n",
    "SELECT *\n",
    "FROM Reviews\n",
    "WHERE Score != 3 AND UserId=\"AR5J8UI46CURR\"\n",
    "ORDER BY ProductID\n",
    "\"\"\", con)\n",
    "display.head()"
   ]
  },
  {
   "cell_type": "markdown",
   "metadata": {
    "colab_type": "text",
    "id": "8pHjlnvwkYkk"
   },
   "source": [
    "As it can be seen above that same user has multiple reviews with same values for HelpfulnessNumerator, HelpfulnessDenominator, Score, Time, Summary and Text and on doing analysis it was found that <br>\n",
    "<br> \n",
    "ProductId=B000HDOPZG was Loacker Quadratini Vanilla Wafer Cookies, 8.82-Ounce Packages (Pack of 8)<br>\n",
    "<br> \n",
    "ProductId=B000HDL1RQ was Loacker Quadratini Lemon Wafer Cookies, 8.82-Ounce Packages (Pack of 8) and so on<br>\n",
    "\n",
    "It was inferred after analysis that reviews with same parameters other than ProductId belonged to the same product just having different flavour or quantity. Hence in order to reduce redundancy it was decided to eliminate the rows having same parameters.<br>\n",
    "\n",
    "The method used for the same was that we first sort the data according to ProductId and then just keep the first similar product review and delelte the others. for eg. in the above just the review for ProductId=B000HDL1RQ remains. This method ensures that there is only one representative for each product and deduplication without sorting would lead to possibility of different representatives still existing for the same product."
   ]
  },
  {
   "cell_type": "code",
   "execution_count": 0,
   "metadata": {
    "colab": {},
    "colab_type": "code",
    "id": "3_PgCfzrkYkq"
   },
   "outputs": [],
   "source": [
    "#Sorting data according to ProductId in ascending order\n",
    "sorted_data=filtered_data.sort_values('ProductId', axis=0, ascending=True, inplace=False, kind='quicksort', na_position='last')"
   ]
  },
  {
   "cell_type": "code",
   "execution_count": 41,
   "metadata": {
    "colab": {
     "base_uri": "https://localhost:8080/",
     "height": 34
    },
    "colab_type": "code",
    "id": "mpSDw2J_kYky",
    "outputId": "a5803c2c-27aa-4a33-f679-959c189e00bd"
   },
   "outputs": [
    {
     "data": {
      "text/plain": [
       "(111488, 10)"
      ]
     },
     "execution_count": 41,
     "metadata": {
      "tags": []
     },
     "output_type": "execute_result"
    }
   ],
   "source": [
    "#Deduplication of entries\n",
    "final=sorted_data.drop_duplicates(subset={\"UserId\",\"ProfileName\",\"Time\",\"Text\"}, keep='first', inplace=False)\n",
    "final.shape"
   ]
  },
  {
   "cell_type": "code",
   "execution_count": 42,
   "metadata": {
    "colab": {
     "base_uri": "https://localhost:8080/",
     "height": 34
    },
    "colab_type": "code",
    "id": "VXfEwqr2kYlD",
    "outputId": "60e742f7-de7f-49dc-8157-2ffd10f2bfa8"
   },
   "outputs": [
    {
     "data": {
      "text/plain": [
       "85.76"
      ]
     },
     "execution_count": 42,
     "metadata": {
      "tags": []
     },
     "output_type": "execute_result"
    }
   ],
   "source": [
    "#Checking to see how much % of data still remains\n",
    "(final['Id'].size*1.0)/(filtered_data['Id'].size*1.0)*100"
   ]
  },
  {
   "cell_type": "markdown",
   "metadata": {
    "colab_type": "text",
    "id": "etClFqjxkYlO"
   },
   "source": [
    "<b>Observation:-</b> It was also seen that in two rows given below the value of HelpfulnessNumerator is greater than HelpfulnessDenominator which is not practically possible hence these two rows too are removed from calcualtions"
   ]
  },
  {
   "cell_type": "code",
   "execution_count": 43,
   "metadata": {
    "colab": {
     "base_uri": "https://localhost:8080/",
     "height": 179
    },
    "colab_type": "code",
    "id": "xRXrlirqkYlU",
    "outputId": "7e5f1d18-e6b1-4b6e-c85b-67ee49838216"
   },
   "outputs": [
    {
     "data": {
      "text/html": [
       "<div>\n",
       "<style scoped>\n",
       "    .dataframe tbody tr th:only-of-type {\n",
       "        vertical-align: middle;\n",
       "    }\n",
       "\n",
       "    .dataframe tbody tr th {\n",
       "        vertical-align: top;\n",
       "    }\n",
       "\n",
       "    .dataframe thead th {\n",
       "        text-align: right;\n",
       "    }\n",
       "</style>\n",
       "<table border=\"1\" class=\"dataframe\">\n",
       "  <thead>\n",
       "    <tr style=\"text-align: right;\">\n",
       "      <th></th>\n",
       "      <th>Id</th>\n",
       "      <th>ProductId</th>\n",
       "      <th>UserId</th>\n",
       "      <th>ProfileName</th>\n",
       "      <th>HelpfulnessNumerator</th>\n",
       "      <th>HelpfulnessDenominator</th>\n",
       "      <th>Score</th>\n",
       "      <th>Time</th>\n",
       "      <th>Summary</th>\n",
       "      <th>Text</th>\n",
       "    </tr>\n",
       "  </thead>\n",
       "  <tbody>\n",
       "    <tr>\n",
       "      <th>0</th>\n",
       "      <td>64422</td>\n",
       "      <td>B000MIDROQ</td>\n",
       "      <td>A161DK06JJMCYF</td>\n",
       "      <td>J. E. Stephens \"Jeanne\"</td>\n",
       "      <td>3</td>\n",
       "      <td>1</td>\n",
       "      <td>5</td>\n",
       "      <td>1224892800</td>\n",
       "      <td>Bought This for My Son at College</td>\n",
       "      <td>My son loves spaghetti so I didn't hesitate or...</td>\n",
       "    </tr>\n",
       "    <tr>\n",
       "      <th>1</th>\n",
       "      <td>44737</td>\n",
       "      <td>B001EQ55RW</td>\n",
       "      <td>A2V0I904FH7ABY</td>\n",
       "      <td>Ram</td>\n",
       "      <td>3</td>\n",
       "      <td>2</td>\n",
       "      <td>4</td>\n",
       "      <td>1212883200</td>\n",
       "      <td>Pure cocoa taste with crunchy almonds inside</td>\n",
       "      <td>It was almost a 'love at first bite' - the per...</td>\n",
       "    </tr>\n",
       "  </tbody>\n",
       "</table>\n",
       "</div>"
      ],
      "text/plain": [
       "      Id   ProductId          UserId              ProfileName  \\\n",
       "0  64422  B000MIDROQ  A161DK06JJMCYF  J. E. Stephens \"Jeanne\"   \n",
       "1  44737  B001EQ55RW  A2V0I904FH7ABY                      Ram   \n",
       "\n",
       "   HelpfulnessNumerator  HelpfulnessDenominator  Score        Time  \\\n",
       "0                     3                       1      5  1224892800   \n",
       "1                     3                       2      4  1212883200   \n",
       "\n",
       "                                        Summary  \\\n",
       "0             Bought This for My Son at College   \n",
       "1  Pure cocoa taste with crunchy almonds inside   \n",
       "\n",
       "                                                Text  \n",
       "0  My son loves spaghetti so I didn't hesitate or...  \n",
       "1  It was almost a 'love at first bite' - the per...  "
      ]
     },
     "execution_count": 43,
     "metadata": {
      "tags": []
     },
     "output_type": "execute_result"
    }
   ],
   "source": [
    "display= pd.read_sql_query(\"\"\"\n",
    "SELECT *\n",
    "FROM Reviews\n",
    "WHERE Score != 3 AND Id=44737 OR Id=64422\n",
    "ORDER BY ProductID\n",
    "\"\"\", con)\n",
    "\n",
    "display.head()"
   ]
  },
  {
   "cell_type": "code",
   "execution_count": 0,
   "metadata": {
    "colab": {},
    "colab_type": "code",
    "id": "fNLQ0VuakYls"
   },
   "outputs": [],
   "source": [
    "final=final[final.HelpfulnessNumerator<=final.HelpfulnessDenominator]"
   ]
  },
  {
   "cell_type": "code",
   "execution_count": 45,
   "metadata": {
    "colab": {
     "base_uri": "https://localhost:8080/",
     "height": 85
    },
    "colab_type": "code",
    "id": "fogjf9cukYl0",
    "outputId": "67fb0d2c-12e5-4cfe-f3e2-d88c295410c9"
   },
   "outputs": [
    {
     "name": "stdout",
     "output_type": "stream",
     "text": [
      "(111486, 10)\n"
     ]
    },
    {
     "data": {
      "text/plain": [
       "1    93593\n",
       "0    17893\n",
       "Name: Score, dtype: int64"
      ]
     },
     "execution_count": 45,
     "metadata": {
      "tags": []
     },
     "output_type": "execute_result"
    }
   ],
   "source": [
    "#Before starting the next phase of preprocessing lets see the number of entries left\n",
    "print(final.shape)\n",
    "\n",
    "#How many positive and negative reviews are present in our dataset?\n",
    "final['Score'].value_counts()"
   ]
  },
  {
   "cell_type": "markdown",
   "metadata": {
    "colab_type": "text",
    "id": "ImfIrDnEkYmF"
   },
   "source": [
    "#  Preprocessing"
   ]
  },
  {
   "cell_type": "code",
   "execution_count": 46,
   "metadata": {
    "colab": {
     "base_uri": "https://localhost:8080/",
     "height": 173
    },
    "colab_type": "code",
    "id": "dslJHTGXkYmN",
    "outputId": "2166ce7a-ebf3-48e8-dd73-d1168729e7a8"
   },
   "outputs": [
    {
     "name": "stdout",
     "output_type": "stream",
     "text": [
      "Our dogs just love them.  I saw them in a pet store and a tag was attached regarding them being made in China and it satisfied me that they were safe.\n",
      "==================================================\n",
      "The tree came with no problems. It was packed well, no issues with the packaging or anything, it was all perfectly intact. It is very healthy, with a ton of buds and has no problems whatsoever. Fancy fancy little tree.\n",
      "==================================================\n",
      "First of all, I would like to comment regarding previous reviews. I do not think the first review in 2005 was done by an employee, and that's not really a fair statement but rather an assumption lacking any real fact or evidence. It seems like a very small company that just enjoys making cheese straws and wants to share them with others. I sincerely doubt that, at the great price they are, the company even makes a ton of profit - which is a shame.<br /><br />Secondly, after tasting Aunt Lizzie's cheese straws for the first time this Fall, I will not eat anyone else's. I literally threw away a package of a VERY POPULAR cheese straw company that I received yesterday as a gift because when I tasted them, they just tasted bland and floury. I could not even bring myself to finish them. I crave Aunt Lizzie's cheese straws so much. (I recommend trying them with some Shiraz or other wine!)<br /><br />Our company gave out Aunt Lizzie's cheese straws as a corporate customer gift this year, and I bet that Aunt Lizzie will have a slew of new customers after that. Thanks, Aunt Lizzie!! :)\n",
      "==================================================\n",
      "My husband and I visit the Florida Keys quite often. We always make sure that we treat ourselves to some wonderful Key Lime Pie. In the past we have always brought home fresh Key lime fruit from some market in Key West. Due to flight regulations and restrictions, we were unable to bring it home this past December. So I decided to purchase some online and this is how we found this brand and used it. It was a real disappointment.The juice tasted like any ordinary lemon juice and lacked that floral bitter tang that Key Limes are famous for.I don't know how this brand can call themselves the famous and original.The juice is from concentrate and who knows what kind of process it went through but it definitely lacked freshness and I will never buy it again.\n",
      "==================================================\n"
     ]
    }
   ],
   "source": [
    "# printing some random reviews\n",
    "sent_0 = final['Text'].values[0]\n",
    "print(sent_0)\n",
    "print(\"=\"*50)\n",
    "\n",
    "sent_1000 = final['Text'].values[1000]\n",
    "print(sent_1000)\n",
    "print(\"=\"*50)\n",
    "\n",
    "sent_1500 = final['Text'].values[1500]\n",
    "print(sent_1500)\n",
    "print(\"=\"*50)\n",
    "\n",
    "sent_4900 = final['Text'].values[4900]\n",
    "print(sent_4900)\n",
    "print(\"=\"*50)"
   ]
  },
  {
   "cell_type": "code",
   "execution_count": 47,
   "metadata": {
    "colab": {
     "base_uri": "https://localhost:8080/",
     "height": 34
    },
    "colab_type": "code",
    "id": "uwOHkLMikYmb",
    "outputId": "be44012a-68c5-4ae0-f0b6-5372b8fc854d"
   },
   "outputs": [
    {
     "name": "stdout",
     "output_type": "stream",
     "text": [
      "Our dogs just love them.  I saw them in a pet store and a tag was attached regarding them being made in China and it satisfied me that they were safe.\n"
     ]
    }
   ],
   "source": [
    "# remove urls from text python: https://stackoverflow.com/a/40823105/4084039\n",
    "sent_0 = re.sub(r\"http\\S+\", \"\", sent_0)\n",
    "sent_1000 = re.sub(r\"http\\S+\", \"\", sent_1000)\n",
    "sent_150 = re.sub(r\"http\\S+\", \"\", sent_1500)\n",
    "sent_4900 = re.sub(r\"http\\S+\", \"\", sent_4900)\n",
    "\n",
    "print(sent_0)"
   ]
  },
  {
   "cell_type": "code",
   "execution_count": 48,
   "metadata": {
    "colab": {
     "base_uri": "https://localhost:8080/",
     "height": 156
    },
    "colab_type": "code",
    "id": "nuPYQgPYkYmm",
    "outputId": "6621d222-91aa-4d38-d250-0d979978b3e4"
   },
   "outputs": [
    {
     "name": "stdout",
     "output_type": "stream",
     "text": [
      "Our dogs just love them.  I saw them in a pet store and a tag was attached regarding them being made in China and it satisfied me that they were safe.\n",
      "==================================================\n",
      "The tree came with no problems. It was packed well, no issues with the packaging or anything, it was all perfectly intact. It is very healthy, with a ton of buds and has no problems whatsoever. Fancy fancy little tree.\n",
      "==================================================\n",
      "First of all, I would like to comment regarding previous reviews. I do not think the first review in 2005 was done by an employee, and that's not really a fair statement but rather an assumption lacking any real fact or evidence. It seems like a very small company that just enjoys making cheese straws and wants to share them with others. I sincerely doubt that, at the great price they are, the company even makes a ton of profit - which is a shame.Secondly, after tasting Aunt Lizzie's cheese straws for the first time this Fall, I will not eat anyone else's. I literally threw away a package of a VERY POPULAR cheese straw company that I received yesterday as a gift because when I tasted them, they just tasted bland and floury. I could not even bring myself to finish them. I crave Aunt Lizzie's cheese straws so much. (I recommend trying them with some Shiraz or other wine!)Our company gave out Aunt Lizzie's cheese straws as a corporate customer gift this year, and I bet that Aunt Lizzie will have a slew of new customers after that. Thanks, Aunt Lizzie!! :)\n",
      "==================================================\n",
      "My husband and I visit the Florida Keys quite often. We always make sure that we treat ourselves to some wonderful Key Lime Pie. In the past we have always brought home fresh Key lime fruit from some market in Key West. Due to flight regulations and restrictions, we were unable to bring it home this past December. So I decided to purchase some online and this is how we found this brand and used it. It was a real disappointment.The juice tasted like any ordinary lemon juice and lacked that floral bitter tang that Key Limes are famous for.I don't know how this brand can call themselves the famous and original.The juice is from concentrate and who knows what kind of process it went through but it definitely lacked freshness and I will never buy it again.\n"
     ]
    }
   ],
   "source": [
    "# https://stackoverflow.com/questions/16206380/python-beautifulsoup-how-to-remove-all-tags-from-an-element\n",
    "from bs4 import BeautifulSoup\n",
    "\n",
    "soup = BeautifulSoup(sent_0, 'lxml')\n",
    "text = soup.get_text()\n",
    "print(text)\n",
    "print(\"=\"*50)\n",
    "\n",
    "soup = BeautifulSoup(sent_1000, 'lxml')\n",
    "text = soup.get_text()\n",
    "print(text)\n",
    "print(\"=\"*50)\n",
    "\n",
    "soup = BeautifulSoup(sent_1500, 'lxml')\n",
    "text = soup.get_text()\n",
    "print(text)\n",
    "print(\"=\"*50)\n",
    "\n",
    "soup = BeautifulSoup(sent_4900, 'lxml')\n",
    "text = soup.get_text()\n",
    "print(text)"
   ]
  },
  {
   "cell_type": "code",
   "execution_count": 0,
   "metadata": {
    "colab": {},
    "colab_type": "code",
    "id": "0ATIN9SakYmv"
   },
   "outputs": [],
   "source": [
    "# https://stackoverflow.com/a/47091490/4084039\n",
    "import re\n",
    "\n",
    "def decontracted(phrase):\n",
    "    # specific\n",
    "    phrase = re.sub(r\"won't\", \"will not\", phrase)\n",
    "    phrase = re.sub(r\"can\\'t\", \"can not\", phrase)\n",
    "\n",
    "    # general\n",
    "    phrase = re.sub(r\"n\\'t\", \" not\", phrase)\n",
    "    phrase = re.sub(r\"\\'re\", \" are\", phrase)\n",
    "    phrase = re.sub(r\"\\'s\", \" is\", phrase)\n",
    "    phrase = re.sub(r\"\\'d\", \" would\", phrase)\n",
    "    phrase = re.sub(r\"\\'ll\", \" will\", phrase)\n",
    "    phrase = re.sub(r\"\\'t\", \" not\", phrase)\n",
    "    phrase = re.sub(r\"\\'ve\", \" have\", phrase)\n",
    "    phrase = re.sub(r\"\\'m\", \" am\", phrase)\n",
    "    return phrase"
   ]
  },
  {
   "cell_type": "code",
   "execution_count": 50,
   "metadata": {
    "colab": {
     "base_uri": "https://localhost:8080/",
     "height": 71
    },
    "colab_type": "code",
    "id": "WFvHIhyXkYm4",
    "outputId": "ed179a85-bb9a-411e-df78-a0faf0101dc2"
   },
   "outputs": [
    {
     "name": "stdout",
     "output_type": "stream",
     "text": [
      "First of all, I would like to comment regarding previous reviews. I do not think the first review in 2005 was done by an employee, and that is not really a fair statement but rather an assumption lacking any real fact or evidence. It seems like a very small company that just enjoys making cheese straws and wants to share them with others. I sincerely doubt that, at the great price they are, the company even makes a ton of profit - which is a shame.<br /><br />Secondly, after tasting Aunt Lizzie is cheese straws for the first time this Fall, I will not eat anyone else is. I literally threw away a package of a VERY POPULAR cheese straw company that I received yesterday as a gift because when I tasted them, they just tasted bland and floury. I could not even bring myself to finish them. I crave Aunt Lizzie is cheese straws so much. (I recommend trying them with some Shiraz or other wine!)<br /><br />Our company gave out Aunt Lizzie is cheese straws as a corporate customer gift this year, and I bet that Aunt Lizzie will have a slew of new customers after that. Thanks, Aunt Lizzie!! :)\n",
      "==================================================\n"
     ]
    }
   ],
   "source": [
    "sent_1500 = decontracted(sent_1500)\n",
    "print(sent_1500)\n",
    "print(\"=\"*50)"
   ]
  },
  {
   "cell_type": "code",
   "execution_count": 51,
   "metadata": {
    "colab": {
     "base_uri": "https://localhost:8080/",
     "height": 34
    },
    "colab_type": "code",
    "id": "fLJSimQ9kYnB",
    "outputId": "04c91925-1704-42a6-fad5-dfa13f1a71a2"
   },
   "outputs": [
    {
     "name": "stdout",
     "output_type": "stream",
     "text": [
      "Our dogs just love them.  I saw them in a pet store and a tag was attached regarding them being made in China and it satisfied me that they were safe.\n"
     ]
    }
   ],
   "source": [
    "#remove words with numbers python: https://stackoverflow.com/a/18082370/4084039\n",
    "sent_0 = re.sub(\"\\S*\\d\\S*\", \"\", sent_0).strip()\n",
    "print(sent_0)"
   ]
  },
  {
   "cell_type": "code",
   "execution_count": 52,
   "metadata": {
    "colab": {
     "base_uri": "https://localhost:8080/",
     "height": 54
    },
    "colab_type": "code",
    "id": "iTNf_Oy4kYnL",
    "outputId": "c360a3f8-3449-439f-e73f-7faa3986659d"
   },
   "outputs": [
    {
     "name": "stdout",
     "output_type": "stream",
     "text": [
      "First of all I would like to comment regarding previous reviews I do not think the first review in 2005 was done by an employee and that is not really a fair statement but rather an assumption lacking any real fact or evidence It seems like a very small company that just enjoys making cheese straws and wants to share them with others I sincerely doubt that at the great price they are the company even makes a ton of profit which is a shame br br Secondly after tasting Aunt Lizzie is cheese straws for the first time this Fall I will not eat anyone else is I literally threw away a package of a VERY POPULAR cheese straw company that I received yesterday as a gift because when I tasted them they just tasted bland and floury I could not even bring myself to finish them I crave Aunt Lizzie is cheese straws so much I recommend trying them with some Shiraz or other wine br br Our company gave out Aunt Lizzie is cheese straws as a corporate customer gift this year and I bet that Aunt Lizzie will have a slew of new customers after that Thanks Aunt Lizzie \n"
     ]
    }
   ],
   "source": [
    "#remove spacial character: https://stackoverflow.com/a/5843547/4084039\n",
    "sent_1500 = re.sub('[^A-Za-z0-9]+', ' ', sent_1500)\n",
    "print(sent_1500)"
   ]
  },
  {
   "cell_type": "code",
   "execution_count": 0,
   "metadata": {
    "colab": {},
    "colab_type": "code",
    "id": "w3RR515wkYnT"
   },
   "outputs": [],
   "source": [
    "# https://gist.github.com/sebleier/554280\n",
    "# we are removing the words from the stop words list: 'no', 'nor', 'not'\n",
    "# <br /><br /> ==> after the above steps, we are getting \"br br\"\n",
    "# we are including them into stop words list\n",
    "# instead of <br /> if we have <br/> these tags would have revmoved in the 1st step\n",
    "\n",
    "stopwords= set(['br', 'the', 'i', 'me', 'my', 'myself', 'we', 'our', 'ours', 'ourselves', 'you', \"you're\", \"you've\",\\\n",
    "            \"you'll\", \"you'd\", 'your', 'yours', 'yourself', 'yourselves', 'he', 'him', 'his', 'himself', \\\n",
    "            'she', \"she's\", 'her', 'hers', 'herself', 'it', \"it's\", 'its', 'itself', 'they', 'them', 'their',\\\n",
    "            'theirs', 'themselves', 'what', 'which', 'who', 'whom', 'this', 'that', \"that'll\", 'these', 'those', \\\n",
    "            'am', 'is', 'are', 'was', 'were', 'be', 'been', 'being', 'have', 'has', 'had', 'having', 'do', 'does', \\\n",
    "            'did', 'doing', 'a', 'an', 'the', 'and', 'but', 'if', 'or', 'because', 'as', 'until', 'while', 'of', \\\n",
    "            'at', 'by', 'for', 'with', 'about', 'against', 'between', 'into', 'through', 'during', 'before', 'after',\\\n",
    "            'above', 'below', 'to', 'from', 'up', 'down', 'in', 'out', 'on', 'off', 'over', 'under', 'again', 'further',\\\n",
    "            'then', 'once', 'here', 'there', 'when', 'where', 'why', 'how', 'all', 'any', 'both', 'each', 'few', 'more',\\\n",
    "            'most', 'other', 'some', 'such', 'only', 'own', 'same', 'so', 'than', 'too', 'very', \\\n",
    "            's', 't', 'can', 'will', 'just', 'don', \"don't\", 'should', \"should've\", 'now', 'd', 'll', 'm', 'o', 're', \\\n",
    "            've', 'y', 'ain', 'aren', \"aren't\", 'couldn', \"couldn't\", 'didn', \"didn't\", 'doesn', \"doesn't\", 'hadn',\\\n",
    "            \"hadn't\", 'hasn', \"hasn't\", 'haven', \"haven't\", 'isn', \"isn't\", 'ma', 'mightn', \"mightn't\", 'mustn',\\\n",
    "            \"mustn't\", 'needn', \"needn't\", 'shan', \"shan't\", 'shouldn', \"shouldn't\", 'wasn', \"wasn't\", 'weren', \"weren't\", \\\n",
    "            'won', \"won't\", 'wouldn', \"wouldn't\"])"
   ]
  },
  {
   "cell_type": "code",
   "execution_count": 54,
   "metadata": {
    "colab": {
     "base_uri": "https://localhost:8080/",
     "height": 34
    },
    "colab_type": "code",
    "id": "cYQxb502kYnb",
    "outputId": "0357926f-52c1-4b2d-b5a0-4506e360be5d"
   },
   "outputs": [
    {
     "name": "stderr",
     "output_type": "stream",
     "text": [
      "100%|██████████| 111486/111486 [01:27<00:00, 1274.07it/s]\n"
     ]
    }
   ],
   "source": [
    "# Combining all the above stundents \n",
    "from tqdm import tqdm\n",
    "preprocessed_reviews = []\n",
    "# tqdm is for printing the status bar\n",
    "for sentance in tqdm(final['Text'].values):\n",
    "    sentance = re.sub(r\"http\\S+\", \"\", sentance)\n",
    "    sentance = BeautifulSoup(sentance, 'lxml').get_text()\n",
    "    sentance = decontracted(sentance)\n",
    "    sentance = re.sub(\"\\S*\\d\\S*\", \"\", sentance).strip()\n",
    "    sentance = re.sub('[^A-Za-z]+', ' ', sentance)\n",
    "    # https://gist.github.com/sebleier/554280\n",
    "    sentance = ' '.join(e.lower() for e in sentance.split() if e.lower() not in stopwords)\n",
    "    preprocessed_reviews.append(sentance.strip())"
   ]
  },
  {
   "cell_type": "code",
   "execution_count": 55,
   "metadata": {
    "colab": {
     "base_uri": "https://localhost:8080/",
     "height": 510
    },
    "colab_type": "code",
    "id": "FUJ-tfjnkYnj",
    "outputId": "d5f3e50a-6e54-4e08-d427-4f9e7a7bc2e1"
   },
   "outputs": [
    {
     "data": {
      "text/html": [
       "<div>\n",
       "<style scoped>\n",
       "    .dataframe tbody tr th:only-of-type {\n",
       "        vertical-align: middle;\n",
       "    }\n",
       "\n",
       "    .dataframe tbody tr th {\n",
       "        vertical-align: top;\n",
       "    }\n",
       "\n",
       "    .dataframe thead th {\n",
       "        text-align: right;\n",
       "    }\n",
       "</style>\n",
       "<table border=\"1\" class=\"dataframe\">\n",
       "  <thead>\n",
       "    <tr style=\"text-align: right;\">\n",
       "      <th></th>\n",
       "      <th>Id</th>\n",
       "      <th>ProductId</th>\n",
       "      <th>UserId</th>\n",
       "      <th>ProfileName</th>\n",
       "      <th>HelpfulnessNumerator</th>\n",
       "      <th>HelpfulnessDenominator</th>\n",
       "      <th>Score</th>\n",
       "      <th>Time</th>\n",
       "      <th>Summary</th>\n",
       "      <th>Text</th>\n",
       "      <th>CleanedText</th>\n",
       "    </tr>\n",
       "  </thead>\n",
       "  <tbody>\n",
       "    <tr>\n",
       "      <th>22621</th>\n",
       "      <td>24751</td>\n",
       "      <td>2734888454</td>\n",
       "      <td>A1C298ITT645B6</td>\n",
       "      <td>Hugh G. Pritchard</td>\n",
       "      <td>0</td>\n",
       "      <td>0</td>\n",
       "      <td>1</td>\n",
       "      <td>1195948800</td>\n",
       "      <td>Dog Lover Delites</td>\n",
       "      <td>Our dogs just love them.  I saw them in a pet ...</td>\n",
       "      <td>dogs love saw pet store tag attached regarding...</td>\n",
       "    </tr>\n",
       "    <tr>\n",
       "      <th>22620</th>\n",
       "      <td>24750</td>\n",
       "      <td>2734888454</td>\n",
       "      <td>A13ISQV0U9GZIC</td>\n",
       "      <td>Sandikaye</td>\n",
       "      <td>1</td>\n",
       "      <td>1</td>\n",
       "      <td>0</td>\n",
       "      <td>1192060800</td>\n",
       "      <td>made in china</td>\n",
       "      <td>My dogs loves this chicken but its a product f...</td>\n",
       "      <td>dogs loves chicken product china wont buying a...</td>\n",
       "    </tr>\n",
       "    <tr>\n",
       "      <th>70685</th>\n",
       "      <td>76879</td>\n",
       "      <td>B00002N8SM</td>\n",
       "      <td>A2579IQYG8Y9YF</td>\n",
       "      <td>Cynthia</td>\n",
       "      <td>0</td>\n",
       "      <td>0</td>\n",
       "      <td>1</td>\n",
       "      <td>1244332800</td>\n",
       "      <td>Works Great!</td>\n",
       "      <td>Having used traditional fly rolls in the past,...</td>\n",
       "      <td>used traditional fly rolls past dubious hubby ...</td>\n",
       "    </tr>\n",
       "    <tr>\n",
       "      <th>70686</th>\n",
       "      <td>76880</td>\n",
       "      <td>B00002N8SM</td>\n",
       "      <td>A1S64UB4EOYFTK</td>\n",
       "      <td>Heather Paradee</td>\n",
       "      <td>0</td>\n",
       "      <td>0</td>\n",
       "      <td>1</td>\n",
       "      <td>1231027200</td>\n",
       "      <td>Prettier than fly paper</td>\n",
       "      <td>Well I received the item and placed it in the ...</td>\n",
       "      <td>well received item placed area put fly paper f...</td>\n",
       "    </tr>\n",
       "    <tr>\n",
       "      <th>70666</th>\n",
       "      <td>76859</td>\n",
       "      <td>B00002N8SM</td>\n",
       "      <td>A88YOFJG6IPOZ</td>\n",
       "      <td>duane</td>\n",
       "      <td>0</td>\n",
       "      <td>0</td>\n",
       "      <td>0</td>\n",
       "      <td>1343433600</td>\n",
       "      <td>RIpoff</td>\n",
       "      <td>What a horrible product. First of all the item...</td>\n",
       "      <td>horrible product first item not work week lots...</td>\n",
       "    </tr>\n",
       "  </tbody>\n",
       "</table>\n",
       "</div>"
      ],
      "text/plain": [
       "          Id   ProductId          UserId        ProfileName  \\\n",
       "22621  24751  2734888454  A1C298ITT645B6  Hugh G. Pritchard   \n",
       "22620  24750  2734888454  A13ISQV0U9GZIC          Sandikaye   \n",
       "70685  76879  B00002N8SM  A2579IQYG8Y9YF            Cynthia   \n",
       "70686  76880  B00002N8SM  A1S64UB4EOYFTK    Heather Paradee   \n",
       "70666  76859  B00002N8SM   A88YOFJG6IPOZ              duane   \n",
       "\n",
       "       HelpfulnessNumerator  HelpfulnessDenominator  Score        Time  \\\n",
       "22621                     0                       0      1  1195948800   \n",
       "22620                     1                       1      0  1192060800   \n",
       "70685                     0                       0      1  1244332800   \n",
       "70686                     0                       0      1  1231027200   \n",
       "70666                     0                       0      0  1343433600   \n",
       "\n",
       "                       Summary  \\\n",
       "22621        Dog Lover Delites   \n",
       "22620            made in china   \n",
       "70685             Works Great!   \n",
       "70686  Prettier than fly paper   \n",
       "70666                   RIpoff   \n",
       "\n",
       "                                                    Text  \\\n",
       "22621  Our dogs just love them.  I saw them in a pet ...   \n",
       "22620  My dogs loves this chicken but its a product f...   \n",
       "70685  Having used traditional fly rolls in the past,...   \n",
       "70686  Well I received the item and placed it in the ...   \n",
       "70666  What a horrible product. First of all the item...   \n",
       "\n",
       "                                             CleanedText  \n",
       "22621  dogs love saw pet store tag attached regarding...  \n",
       "22620  dogs loves chicken product china wont buying a...  \n",
       "70685  used traditional fly rolls past dubious hubby ...  \n",
       "70686  well received item placed area put fly paper f...  \n",
       "70666  horrible product first item not work week lots...  "
      ]
     },
     "execution_count": 55,
     "metadata": {
      "tags": []
     },
     "output_type": "execute_result"
    }
   ],
   "source": [
    "final['CleanedText']=preprocessed_reviews\n",
    "final.head()"
   ]
  },
  {
   "cell_type": "code",
   "execution_count": 56,
   "metadata": {
    "colab": {
     "base_uri": "https://localhost:8080/",
     "height": 85
    },
    "colab_type": "code",
    "id": "dJk_YtPzp-Iq",
    "outputId": "c53b4b8f-1897-4960-ea08-39594b5f4e62"
   },
   "outputs": [
    {
     "name": "stdout",
     "output_type": "stream",
     "text": [
      "For 100000 samples :\n",
      " 1    83910\n",
      "0    16090\n",
      "Name: Score, dtype: int64\n"
     ]
    }
   ],
   "source": [
    "data=final.sample(100000)\n",
    "print(\"For 100000 samples :\\n\" , data['Score'].value_counts())"
   ]
  },
  {
   "cell_type": "code",
   "execution_count": 57,
   "metadata": {
    "colab": {
     "base_uri": "https://localhost:8080/",
     "height": 85
    },
    "colab_type": "code",
    "id": "MF1CQN_ksb4I",
    "outputId": "15878366-ff7c-4f17-b681-439b7569ac19"
   },
   "outputs": [
    {
     "name": "stdout",
     "output_type": "stream",
     "text": [
      "For 20000 samples :\n",
      " 1    16762\n",
      "0     3238\n",
      "Name: Score, dtype: int64\n"
     ]
    }
   ],
   "source": [
    "data1=final.sample(20000)\n",
    "print(\"For 20000 samples :\\n\" , data1['Score'].value_counts())"
   ]
  },
  {
   "cell_type": "code",
   "execution_count": 58,
   "metadata": {
    "colab": {
     "base_uri": "https://localhost:8080/",
     "height": 476
    },
    "colab_type": "code",
    "id": "5N4fjReMs0JB",
    "outputId": "d1f34883-1bbd-4cfb-9441-8c006cd9074b"
   },
   "outputs": [
    {
     "data": {
      "text/html": [
       "<div>\n",
       "<style scoped>\n",
       "    .dataframe tbody tr th:only-of-type {\n",
       "        vertical-align: middle;\n",
       "    }\n",
       "\n",
       "    .dataframe tbody tr th {\n",
       "        vertical-align: top;\n",
       "    }\n",
       "\n",
       "    .dataframe thead th {\n",
       "        text-align: right;\n",
       "    }\n",
       "</style>\n",
       "<table border=\"1\" class=\"dataframe\">\n",
       "  <thead>\n",
       "    <tr style=\"text-align: right;\">\n",
       "      <th></th>\n",
       "      <th>Id</th>\n",
       "      <th>ProductId</th>\n",
       "      <th>UserId</th>\n",
       "      <th>ProfileName</th>\n",
       "      <th>HelpfulnessNumerator</th>\n",
       "      <th>HelpfulnessDenominator</th>\n",
       "      <th>Score</th>\n",
       "      <th>Time</th>\n",
       "      <th>Summary</th>\n",
       "      <th>Text</th>\n",
       "      <th>CleanedText</th>\n",
       "    </tr>\n",
       "  </thead>\n",
       "  <tbody>\n",
       "    <tr>\n",
       "      <th>70688</th>\n",
       "      <td>76882</td>\n",
       "      <td>B00002N8SM</td>\n",
       "      <td>A32DW342WBJ6BX</td>\n",
       "      <td>Buttersugar</td>\n",
       "      <td>0</td>\n",
       "      <td>0</td>\n",
       "      <td>1</td>\n",
       "      <td>2000-01-24</td>\n",
       "      <td>A sure death for flies</td>\n",
       "      <td>I bought a few of these after my apartment was...</td>\n",
       "      <td>bought apartment infested fruit flies hours tr...</td>\n",
       "    </tr>\n",
       "    <tr>\n",
       "      <th>1146</th>\n",
       "      <td>1245</td>\n",
       "      <td>B00002Z754</td>\n",
       "      <td>A29Z5PI9BW2PU3</td>\n",
       "      <td>Robbie</td>\n",
       "      <td>7</td>\n",
       "      <td>7</td>\n",
       "      <td>1</td>\n",
       "      <td>2000-06-23</td>\n",
       "      <td>Great Product</td>\n",
       "      <td>This was a really good idea and the final prod...</td>\n",
       "      <td>really good idea final product outstanding use...</td>\n",
       "    </tr>\n",
       "    <tr>\n",
       "      <th>1145</th>\n",
       "      <td>1244</td>\n",
       "      <td>B00002Z754</td>\n",
       "      <td>A3B8RCEI0FXFI6</td>\n",
       "      <td>B G Chase</td>\n",
       "      <td>10</td>\n",
       "      <td>10</td>\n",
       "      <td>1</td>\n",
       "      <td>2000-06-29</td>\n",
       "      <td>WOW Make your own 'slickers' !</td>\n",
       "      <td>I just received my shipment and could hardly w...</td>\n",
       "      <td>received shipment could hardly wait try produc...</td>\n",
       "    </tr>\n",
       "    <tr>\n",
       "      <th>121041</th>\n",
       "      <td>131217</td>\n",
       "      <td>B00004RAMX</td>\n",
       "      <td>A5NQLNC6QPGSI</td>\n",
       "      <td>Kim Nason</td>\n",
       "      <td>7</td>\n",
       "      <td>8</td>\n",
       "      <td>1</td>\n",
       "      <td>2000-07-31</td>\n",
       "      <td>End your Gopher Problems</td>\n",
       "      <td>I have just recently purchased the Woodstream ...</td>\n",
       "      <td>recently purchased woodstream corp gopher trap...</td>\n",
       "    </tr>\n",
       "    <tr>\n",
       "      <th>28087</th>\n",
       "      <td>30630</td>\n",
       "      <td>B00008RCMI</td>\n",
       "      <td>A284C7M23F0APC</td>\n",
       "      <td>A. Mendoza</td>\n",
       "      <td>0</td>\n",
       "      <td>0</td>\n",
       "      <td>1</td>\n",
       "      <td>2003-10-25</td>\n",
       "      <td>Best sugarless gum ever!</td>\n",
       "      <td>I love this stuff. It is sugar-free so it does...</td>\n",
       "      <td>love stuff sugar free not rot gums tastes good...</td>\n",
       "    </tr>\n",
       "  </tbody>\n",
       "</table>\n",
       "</div>"
      ],
      "text/plain": [
       "            Id   ProductId          UserId  ProfileName  HelpfulnessNumerator  \\\n",
       "70688    76882  B00002N8SM  A32DW342WBJ6BX  Buttersugar                     0   \n",
       "1146      1245  B00002Z754  A29Z5PI9BW2PU3       Robbie                     7   \n",
       "1145      1244  B00002Z754  A3B8RCEI0FXFI6    B G Chase                    10   \n",
       "121041  131217  B00004RAMX   A5NQLNC6QPGSI    Kim Nason                     7   \n",
       "28087    30630  B00008RCMI  A284C7M23F0APC   A. Mendoza                     0   \n",
       "\n",
       "        HelpfulnessDenominator  Score       Time  \\\n",
       "70688                        0      1 2000-01-24   \n",
       "1146                         7      1 2000-06-23   \n",
       "1145                        10      1 2000-06-29   \n",
       "121041                       8      1 2000-07-31   \n",
       "28087                        0      1 2003-10-25   \n",
       "\n",
       "                               Summary  \\\n",
       "70688           A sure death for flies   \n",
       "1146                     Great Product   \n",
       "1145    WOW Make your own 'slickers' !   \n",
       "121041        End your Gopher Problems   \n",
       "28087         Best sugarless gum ever!   \n",
       "\n",
       "                                                     Text  \\\n",
       "70688   I bought a few of these after my apartment was...   \n",
       "1146    This was a really good idea and the final prod...   \n",
       "1145    I just received my shipment and could hardly w...   \n",
       "121041  I have just recently purchased the Woodstream ...   \n",
       "28087   I love this stuff. It is sugar-free so it does...   \n",
       "\n",
       "                                              CleanedText  \n",
       "70688   bought apartment infested fruit flies hours tr...  \n",
       "1146    really good idea final product outstanding use...  \n",
       "1145    received shipment could hardly wait try produc...  \n",
       "121041  recently purchased woodstream corp gopher trap...  \n",
       "28087   love stuff sugar free not rot gums tastes good...  "
      ]
     },
     "execution_count": 58,
     "metadata": {
      "tags": []
     },
     "output_type": "execute_result"
    }
   ],
   "source": [
    "#Sorting According to Time\n",
    "data[\"Time\"] = pd.to_datetime(data[\"Time\"], unit = \"s\")\n",
    "data = data.sort_values(by = \"Time\")\n",
    "data.head()"
   ]
  },
  {
   "cell_type": "code",
   "execution_count": 59,
   "metadata": {
    "colab": {
     "base_uri": "https://localhost:8080/",
     "height": 581
    },
    "colab_type": "code",
    "id": "ZDsbOmIfs0aT",
    "outputId": "3d5492b2-76ec-40a5-e420-9192f66e8d3c"
   },
   "outputs": [
    {
     "data": {
      "text/html": [
       "<div>\n",
       "<style scoped>\n",
       "    .dataframe tbody tr th:only-of-type {\n",
       "        vertical-align: middle;\n",
       "    }\n",
       "\n",
       "    .dataframe tbody tr th {\n",
       "        vertical-align: top;\n",
       "    }\n",
       "\n",
       "    .dataframe thead th {\n",
       "        text-align: right;\n",
       "    }\n",
       "</style>\n",
       "<table border=\"1\" class=\"dataframe\">\n",
       "  <thead>\n",
       "    <tr style=\"text-align: right;\">\n",
       "      <th></th>\n",
       "      <th>Id</th>\n",
       "      <th>ProductId</th>\n",
       "      <th>UserId</th>\n",
       "      <th>ProfileName</th>\n",
       "      <th>HelpfulnessNumerator</th>\n",
       "      <th>HelpfulnessDenominator</th>\n",
       "      <th>Score</th>\n",
       "      <th>Time</th>\n",
       "      <th>Summary</th>\n",
       "      <th>Text</th>\n",
       "      <th>CleanedText</th>\n",
       "    </tr>\n",
       "  </thead>\n",
       "  <tbody>\n",
       "    <tr>\n",
       "      <th>10992</th>\n",
       "      <td>11991</td>\n",
       "      <td>B0000T15M8</td>\n",
       "      <td>A2928LJN5IISB4</td>\n",
       "      <td>chatchi</td>\n",
       "      <td>5</td>\n",
       "      <td>5</td>\n",
       "      <td>1</td>\n",
       "      <td>2003-11-05</td>\n",
       "      <td>The fruits of my labor</td>\n",
       "      <td>When chatchi's favorite afternoon treat became...</td>\n",
       "      <td>chatchi favorite afternoon treat became myster...</td>\n",
       "    </tr>\n",
       "    <tr>\n",
       "      <th>28085</th>\n",
       "      <td>30628</td>\n",
       "      <td>B00008RCMI</td>\n",
       "      <td>A3AKWA5CWSKOOH</td>\n",
       "      <td>Ilaxi S. Patel \"Editor, kidsfreesouls.com &amp; A...</td>\n",
       "      <td>0</td>\n",
       "      <td>0</td>\n",
       "      <td>1</td>\n",
       "      <td>2003-11-06</td>\n",
       "      <td>Refreshing Mouth Freshner!</td>\n",
       "      <td>A tennis player hubby of mine got this pack on...</td>\n",
       "      <td>tennis player hubby mine got pack rack opel co...</td>\n",
       "    </tr>\n",
       "    <tr>\n",
       "      <th>124630</th>\n",
       "      <td>135144</td>\n",
       "      <td>B001KWK1N8</td>\n",
       "      <td>A3FS8HDE2BTD5Z</td>\n",
       "      <td>C. Boeck \"cebii\"</td>\n",
       "      <td>1</td>\n",
       "      <td>1</td>\n",
       "      <td>1</td>\n",
       "      <td>2003-11-12</td>\n",
       "      <td>really the best</td>\n",
       "      <td>I buy this at our neighborhood supermarket.  I...</td>\n",
       "      <td>buy neighborhood supermarket really best soymi...</td>\n",
       "    </tr>\n",
       "    <tr>\n",
       "      <th>86598</th>\n",
       "      <td>94281</td>\n",
       "      <td>B0000CNU2Q</td>\n",
       "      <td>A1NOWEOLKMRRXM</td>\n",
       "      <td>T. Reinhardt \"olivia lee\"</td>\n",
       "      <td>27</td>\n",
       "      <td>27</td>\n",
       "      <td>1</td>\n",
       "      <td>2003-12-18</td>\n",
       "      <td>The best bread crumbs...you'll never go back</td>\n",
       "      <td>Panko bread crumbs are just awesome.  When use...</td>\n",
       "      <td>panko bread crumbs awesome used breading make ...</td>\n",
       "    </tr>\n",
       "    <tr>\n",
       "      <th>67336</th>\n",
       "      <td>73194</td>\n",
       "      <td>B0001217BS</td>\n",
       "      <td>AZ43813PGPQJ9</td>\n",
       "      <td>Brian Leone</td>\n",
       "      <td>4</td>\n",
       "      <td>7</td>\n",
       "      <td>1</td>\n",
       "      <td>2004-02-26</td>\n",
       "      <td>Nutella is amazing.</td>\n",
       "      <td>I just want to say that I'm eating Nutella rig...</td>\n",
       "      <td>want say eating nutella right nothing short am...</td>\n",
       "    </tr>\n",
       "  </tbody>\n",
       "</table>\n",
       "</div>"
      ],
      "text/plain": [
       "            Id   ProductId          UserId  \\\n",
       "10992    11991  B0000T15M8  A2928LJN5IISB4   \n",
       "28085    30628  B00008RCMI  A3AKWA5CWSKOOH   \n",
       "124630  135144  B001KWK1N8  A3FS8HDE2BTD5Z   \n",
       "86598    94281  B0000CNU2Q  A1NOWEOLKMRRXM   \n",
       "67336    73194  B0001217BS   AZ43813PGPQJ9   \n",
       "\n",
       "                                             ProfileName  \\\n",
       "10992                                            chatchi   \n",
       "28085   Ilaxi S. Patel \"Editor, kidsfreesouls.com & A...   \n",
       "124630                                  C. Boeck \"cebii\"   \n",
       "86598                          T. Reinhardt \"olivia lee\"   \n",
       "67336                                        Brian Leone   \n",
       "\n",
       "        HelpfulnessNumerator  HelpfulnessDenominator  Score       Time  \\\n",
       "10992                      5                       5      1 2003-11-05   \n",
       "28085                      0                       0      1 2003-11-06   \n",
       "124630                     1                       1      1 2003-11-12   \n",
       "86598                     27                      27      1 2003-12-18   \n",
       "67336                      4                       7      1 2004-02-26   \n",
       "\n",
       "                                             Summary  \\\n",
       "10992                         The fruits of my labor   \n",
       "28085                     Refreshing Mouth Freshner!   \n",
       "124630                               really the best   \n",
       "86598   The best bread crumbs...you'll never go back   \n",
       "67336                            Nutella is amazing.   \n",
       "\n",
       "                                                     Text  \\\n",
       "10992   When chatchi's favorite afternoon treat became...   \n",
       "28085   A tennis player hubby of mine got this pack on...   \n",
       "124630  I buy this at our neighborhood supermarket.  I...   \n",
       "86598   Panko bread crumbs are just awesome.  When use...   \n",
       "67336   I just want to say that I'm eating Nutella rig...   \n",
       "\n",
       "                                              CleanedText  \n",
       "10992   chatchi favorite afternoon treat became myster...  \n",
       "28085   tennis player hubby mine got pack rack opel co...  \n",
       "124630  buy neighborhood supermarket really best soymi...  \n",
       "86598   panko bread crumbs awesome used breading make ...  \n",
       "67336   want say eating nutella right nothing short am...  "
      ]
     },
     "execution_count": 59,
     "metadata": {
      "tags": []
     },
     "output_type": "execute_result"
    }
   ],
   "source": [
    "#Sorting According to Time\n",
    "data1[\"Time\"] = pd.to_datetime(data1[\"Time\"], unit = \"s\")\n",
    "data1 = data1.sort_values(by = \"Time\",axis=0, ascending=True, inplace=False, kind='quicksort', na_position='last')\n",
    "data1.head()"
   ]
  },
  {
   "cell_type": "code",
   "execution_count": 0,
   "metadata": {
    "colab": {},
    "colab_type": "code",
    "id": "OXO8SB2ytLFt"
   },
   "outputs": [],
   "source": [
    "# this is for 100k points\n",
    "X=data['CleanedText']\n",
    "y=data['Score']\n",
    "# this is for 20k points\n",
    "X1=data1['CleanedText']\n",
    "y1=data1['Score']"
   ]
  },
  {
   "cell_type": "code",
   "execution_count": 61,
   "metadata": {
    "colab": {
     "base_uri": "https://localhost:8080/",
     "height": 136
    },
    "colab_type": "code",
    "id": "AgBzEf15uvel",
    "outputId": "2bb6e704-b9d6-443b-88b0-b007a4a662a4"
   },
   "outputs": [
    {
     "name": "stdout",
     "output_type": "stream",
     "text": [
      "(44890,) (44890,)\n",
      "(22110,) (22110,)\n",
      "(33000,) (33000,)\n",
      "****************************************************************************************************\n",
      "(8978,) (8978,)\n",
      "(4422,) (4422,)\n",
      "(6600,) (6600,)\n"
     ]
    }
   ],
   "source": [
    "from sklearn.model_selection import train_test_split\n",
    "X_train, X_test, y_train, y_test = train_test_split(X, y, test_size=0.33) # this is random splitting\n",
    "X_train, X_cv, y_train, y_cv = train_test_split(X_train, y_train, test_size=0.33) # random splitting\n",
    "print(X_train.shape, y_train.shape)\n",
    "print(X_cv.shape, y_cv.shape)\n",
    "print(X_test.shape, y_test.shape)\n",
    "print('*'*100)\n",
    "# splitting for RBF-Kernal\n",
    "X1_train, X1_test, y1_train, y1_test = train_test_split(X1, y1, test_size=0.33) # this is random splitting\n",
    "X1_train, X1_cv, y1_train, y1_cv = train_test_split(X1_train, y1_train, test_size=0.33) # random splitting\n",
    "print(X1_train.shape, y1_train.shape)\n",
    "print(X1_cv.shape, y1_cv.shape)\n",
    "print(X1_test.shape, y1_test.shape)"
   ]
  },
  {
   "cell_type": "code",
   "execution_count": 62,
   "metadata": {
    "colab": {
     "base_uri": "https://localhost:8080/",
     "height": 34
    },
    "colab_type": "code",
    "id": "8mmdTKSpxNfp",
    "outputId": "eefd7ed5-8698-4076-c7ed-ec03723a27fd"
   },
   "outputs": [
    {
     "name": "stdout",
     "output_type": "stream",
     "text": [
      "************************************************************************************************************************\n"
     ]
    }
   ],
   "source": [
    "from sklearn.feature_extraction.text import CountVectorizer\n",
    "from sklearn import svm\n",
    "from sklearn.model_selection import GridSearchCV\n",
    "import matplotlib.pyplot as plt\n",
    "from sklearn.metrics import accuracy_score\n",
    "from sklearn.model_selection import cross_val_score\n",
    "from collections import Counter\n",
    "from sklearn.metrics import confusion_matrix\n",
    "from sklearn import svm, datasets\n",
    "from scipy.stats import uniform\n",
    "from collections import Counter\n",
    "from sklearn import model_selection\n",
    "from sklearn.metrics import roc_auc_score\n",
    "# Importing libraries\n",
    "from sklearn.linear_model import SGDClassifier\n",
    "from sklearn.model_selection import GridSearchCV\n",
    "from sklearn.model_selection import RandomizedSearchCV\n",
    "from sklearn.metrics import confusion_matrix,precision_score,recall_score\n",
    "from sklearn.metrics import roc_auc_score\n",
    "\n",
    "print('**'*60)"
   ]
  },
  {
   "cell_type": "markdown",
   "metadata": {
    "colab_type": "text",
    "id": "HZHufBm80BML"
   },
   "source": [
    "# Linear kernel "
   ]
  },
  {
   "cell_type": "markdown",
   "metadata": {
    "colab_type": "text",
    "id": "M1fcht9UkYn2"
   },
   "source": [
    "## BAG OF WORDS"
   ]
  },
  {
   "cell_type": "code",
   "execution_count": 63,
   "metadata": {
    "colab": {
     "base_uri": "https://localhost:8080/",
     "height": 85
    },
    "colab_type": "code",
    "id": "N1Ixlbo_kYoa",
    "outputId": "8b729d93-2e08-4a12-9e93-0fe821fb00c8"
   },
   "outputs": [
    {
     "name": "stdout",
     "output_type": "stream",
     "text": [
      "After vectorizations\n",
      "(44890, 40452) (44890,)\n",
      "(22110, 40452) (22110,)\n",
      "(33000, 40452) (33000,)\n"
     ]
    }
   ],
   "source": [
    "#BoW\n",
    "bow = CountVectorizer().fit(X_train)\n",
    "X_train_bow=bow.transform(X_train)\n",
    "X_test_bow=bow.transform(X_test)\n",
    "X_cv_bow=bow.transform(X_cv)\n",
    "print(\"After vectorizations\")\n",
    "print(X_train_bow.shape, y_train.shape)\n",
    "print(X_cv_bow.shape, y_cv.shape)\n",
    "print(X_test_bow.shape, y_test.shape)"
   ]
  },
  {
   "cell_type": "code",
   "execution_count": 64,
   "metadata": {
    "colab": {
     "base_uri": "https://localhost:8080/",
     "height": 294
    },
    "colab_type": "code",
    "id": "eVXfg_PwkYo_",
    "outputId": "9ed94d0e-a2fb-41bb-9ac4-47a40dbaf715"
   },
   "outputs": [
    {
     "data": {
      "image/png": "[encoded data removed]",
      "text/plain": [
       "<Figure size 432x288 with 1 Axes>"
      ]
     },
     "metadata": {
      "tags": []
     },
     "output_type": "display_data"
    }
   ],
   "source": [
    "\n",
    "K = [10**-4,10**-2,10**0,10**2,10**4]\n",
    "\n",
    "param_grid = {'alpha': K}\n",
    "model = GridSearchCV(SGDClassifier(loss='hinge'), param_grid, cv=3 ,scoring = 'roc_auc')\n",
    "model.fit(X_train_bow, y_train)\n",
    "train_auc= model.cv_results_['mean_train_score']\n",
    "train_auc_std= model.cv_results_['std_train_score']\n",
    "cv_auc = model.cv_results_['mean_test_score'] \n",
    "cv_auc_std= model.cv_results_['std_test_score']\n",
    "\n",
    "plt.plot(np.log(K), train_auc, label='Train AUC')\n",
    "\n",
    "# this code is copied from here: https://stackoverflow.com/a/48803361/4084039\n",
    "plt.gca().fill_between(np.log(K),train_auc - train_auc_std,train_auc + train_auc_std,alpha=0.2,color='darkblue')\n",
    "\n",
    "plt.plot(np.log(K), cv_auc, label='CV AUC')\n",
    "\n",
    "# this code is copied from here: https://stackoverflow.com/a/48803361/4084039\n",
    "plt.gca().fill_between(np.log(K),cv_auc - cv_auc_std,cv_auc + cv_auc_std,alpha=0.2,color='darkorange')\n",
    "\n",
    "plt.legend()\n",
    "plt.xlabel(\"K: hyperparameter\")\n",
    "plt.ylabel(\"AUC\")\n",
    "plt.title(\"ERROR PLOTS\")\n",
    "plt.show()"
   ]
  },
  {
   "cell_type": "code",
   "execution_count": 65,
   "metadata": {
    "colab": {
     "base_uri": "https://localhost:8080/",
     "height": 34
    },
    "colab_type": "code",
    "id": "txITiCN875_8",
    "outputId": "1939290f-d388-4947-a278-9307154f99f6"
   },
   "outputs": [
    {
     "name": "stdout",
     "output_type": "stream",
     "text": [
      "The optimal value of alpha(1/C) is :  0.01\n"
     ]
    }
   ],
   "source": [
    "optimal_alpha = model.best_estimator_.alpha\n",
    "print(\"The optimal value of alpha(1/C) is : \",optimal_alpha)"
   ]
  },
  {
   "cell_type": "code",
   "execution_count": 0,
   "metadata": {
    "colab": {},
    "colab_type": "code",
    "id": "uCefjh9w9cyC"
   },
   "outputs": [],
   "source": [
    "# Optimal value of alpha i.e.(1/C)\n",
    "from sklearn.calibration import CalibratedClassifierCV\n",
    "sgd = SGDClassifier(alpha=optimal_alpha,loss='hinge')\n",
    "sgd_bow=CalibratedClassifierCV(base_estimator=sgd)\n",
    "sgd_bow.fit(X_train_bow,y_train)\n",
    "predictions_bow_test = sgd_bow.predict(X_test_bow)\n",
    "predictions_bow_train = sgd_bow.predict(X_train_bow)\n",
    "auc_bow_test=roc_auc_score(y_test, predictions_bow_test)\n",
    "auc_bow_train=roc_auc_score(y_train, predictions_bow_train)"
   ]
  },
  {
   "cell_type": "code",
   "execution_count": 67,
   "metadata": {
    "colab": {
     "base_uri": "https://localhost:8080/",
     "height": 153
    },
    "colab_type": "code",
    "id": "QOMHiq94-t-2",
    "outputId": "07737fb2-c4a4-4d85-9f92-9a43f0f849c3"
   },
   "outputs": [
    {
     "name": "stdout",
     "output_type": "stream",
     "text": [
      "\n",
      "The AUC socre test for value= 0.010000 is 0.773407%\n",
      "\n",
      "The AUC socre train for value= 0.010000 is 0.793610%\n",
      "\n",
      "The Error socre test for value= 0.010000 is 0.226593%\n",
      "\n",
      "The Error socre train for value= 0.010000 is 0.206390%\n"
     ]
    }
   ],
   "source": [
    "print('\\nThe AUC socre test for value= %f is %f%%' % (optimal_alpha, auc_bow_test))\n",
    "print('\\nThe AUC socre train for value= %f is %f%%' % (optimal_alpha, auc_bow_train))\n",
    "print('\\nThe Error socre test for value= %f is %f%%' % (optimal_alpha, (1-auc_bow_test)))\n",
    "print('\\nThe Error socre train for value= %f is %f%%' % (optimal_alpha, (1-auc_bow_train)))"
   ]
  },
  {
   "cell_type": "code",
   "execution_count": 68,
   "metadata": {
    "colab": {
     "base_uri": "https://localhost:8080/",
     "height": 413
    },
    "colab_type": "code",
    "id": "8X2NHTq1AEo_",
    "outputId": "b8b36932-cbc4-43b5-fad2-013c43586e4e"
   },
   "outputs": [
    {
     "data": {
      "image/png": "[encoded data removed]",
      "text/plain": [
       "<Figure size 432x288 with 1 Axes>"
      ]
     },
     "metadata": {
      "tags": []
     },
     "output_type": "display_data"
    },
    {
     "name": "stdout",
     "output_type": "stream",
     "text": [
      "====================================================================================================\n",
      "Train confusion matrix\n",
      "[[ 4443  2869]\n",
      " [  767 36811]]\n",
      "Test confusion matrix\n",
      "[[ 3001  2237]\n",
      " [  725 27037]]\n"
     ]
    }
   ],
   "source": [
    "from sklearn.metrics import roc_curve, auc\n",
    "\n",
    "\n",
    "### Computing ROC curve \n",
    "from sklearn import metrics\n",
    "y_test_predict  =  sgd_bow.predict_proba(X_test_bow)[:,1]\n",
    "y_train_predict =  sgd_bow.predict_proba(X_train_bow)[:,1]\n",
    "train_fpr,train_tpr,_ =  metrics.roc_curve(y_train,y_train_predict) \n",
    "test_fpr,test_tpr, _ = metrics.roc_curve(y_test,y_test_predict)\n",
    "\n",
    "roc_auc_test = auc(test_fpr, test_tpr) \n",
    "roc_auc_train = auc(train_fpr,train_tpr) \n",
    "### Plot\n",
    "plt.figure()\n",
    "lw = 3 \n",
    "#plt.plot(train_fpr, train_tpr, color='navy',lw=lw, linestyle='--', label='ROC curve_train (area = %0.2f)' % roc_auc_train)\n",
    "plt.plot(train_fpr,train_tpr, color='navy',\n",
    "         lw=lw, linestyle='--', label='ROC curve_train (area = %0.2f)' % roc_auc_train)\n",
    "\n",
    "plt.plot(test_fpr,test_tpr, color='darkorange', lw=lw,label='ROC curve_test (area = %0.2f)' % roc_auc_test)\n",
    "plt.xlim([0.0, 1.0])\n",
    "plt.ylim([0.0, 1.05])\n",
    "plt.xlabel('False Positive Rate')\n",
    "plt.ylabel('True Positive Rate')\n",
    "plt.title('Roc_Auc curve')\n",
    "plt.legend()\n",
    "plt.show()\n",
    "\n",
    "print(\"=\"*100)\n",
    "\n",
    "from sklearn.metrics import confusion_matrix\n",
    "print(\"Train confusion matrix\")\n",
    "linear_bow_train=confusion_matrix(y_train, sgd_bow.predict(X_train_bow))\n",
    "print(linear_bow_train)\n",
    "print(\"Test confusion matrix\")\n",
    "linear_bow_test=confusion_matrix(y_test, sgd_bow.predict(X_test_bow))\n",
    "print(linear_bow_test)"
   ]
  },
  {
   "cell_type": "code",
   "execution_count": 69,
   "metadata": {
    "colab": {
     "base_uri": "https://localhost:8080/",
     "height": 588
    },
    "colab_type": "code",
    "id": "l63GB8KcI_Ti",
    "outputId": "25c53002-bc2d-4d0d-a06a-4944bb2f5042"
   },
   "outputs": [
    {
     "data": {
      "image/png": "[encoded data removed]",
      "text/plain": [
       "<Figure size 432x288 with 2 Axes>"
      ]
     },
     "metadata": {
      "tags": []
     },
     "output_type": "display_data"
    },
    {
     "name": "stdout",
     "output_type": "stream",
     "text": [
      "************************************************************************************************************************\n"
     ]
    },
    {
     "data": {
      "image/png": "[encoded data removed]",
      "text/plain": [
       "<Figure size 432x288 with 2 Axes>"
      ]
     },
     "metadata": {
      "tags": []
     },
     "output_type": "display_data"
    }
   ],
   "source": [
    "import seaborn as sns\n",
    "class_label = [\"negative\", \"positive\"]\n",
    "linear_train_heatmap = pd.DataFrame(linear_bow_train, index = class_label, columns = class_label)\n",
    "sns.heatmap(linear_train_heatmap, annot = True, fmt = \"d\")\n",
    "plt.title(\"Confusion Matrix\")\n",
    "plt.xlabel(\"Predicted Label\")\n",
    "plt.ylabel(\"True Label\")\n",
    "plt.show()\n",
    "\n",
    "print('**'*60)\n",
    "\n",
    "linear_test_heatmap = pd.DataFrame(linear_bow_test, index = class_label, columns = class_label)\n",
    "sns.heatmap(linear_test_heatmap, annot = True, fmt = \"d\")\n",
    "plt.title(\"Confusion Matrix\")\n",
    "plt.xlabel(\"Predicted Label\")\n",
    "plt.ylabel(\"True Label\")\n",
    "plt.show()\n"
   ]
  },
  {
   "cell_type": "code",
   "execution_count": 70,
   "metadata": {
    "colab": {
     "base_uri": "https://localhost:8080/",
     "height": 34
    },
    "colab_type": "code",
    "id": "l3MUOcVHKp92",
    "outputId": "df3a8a79-0507-49b4-c81a-39a79fec51de"
   },
   "outputs": [
    {
     "data": {
      "text/plain": [
       "(40452,)"
      ]
     },
     "execution_count": 70,
     "metadata": {
      "tags": []
     },
     "output_type": "execute_result"
    }
   ],
   "source": [
    "features_linear_bow=np.asarray(bow.get_feature_names())\n",
    "sgd.fit(X_train_bow,y_train)\n",
    "features_linear_bow.shape"
   ]
  },
  {
   "cell_type": "code",
   "execution_count": 71,
   "metadata": {
    "colab": {
     "base_uri": "https://localhost:8080/",
     "height": 391
    },
    "colab_type": "code",
    "id": "f-MeQW8TLCpI",
    "outputId": "2ef21f83-c0da-4c46-d1e9-2ed81dd0cbbe"
   },
   "outputs": [
    {
     "name": "stdout",
     "output_type": "stream",
     "text": [
      "                  weights\n",
      "subcription  6.058093e-20\n",
      "detected     6.058093e-20\n",
      "fifties      1.211619e-19\n",
      "wagyu        1.817428e-19\n",
      "looser       1.817428e-19\n",
      "exceeding    2.423237e-19\n",
      "upsetting    2.423237e-19\n",
      "digital      2.423237e-19\n",
      "flovors      2.423237e-19\n",
      "killer       2.423237e-19\n",
      "                weights\n",
      "disappointed  -0.477547\n",
      "awful         -0.389789\n",
      "money         -0.360387\n",
      "worst         -0.348360\n",
      "waste         -0.341232\n",
      "terrible      -0.326977\n",
      "horrible      -0.317177\n",
      "bad           -0.298912\n",
      "return        -0.292230\n",
      "disappointing -0.281984\n"
     ]
    }
   ],
   "source": [
    "w_linear_bow=sgd.coef_\n",
    "weights=np.transpose(w_linear_bow)\n",
    "features_frame_linearbow=pd.DataFrame(data=weights,index=features_linear_bow,columns=['weights'])\n",
    "features_frame_linear_bow=features_frame_linearbow.sort_values(by=['weights'])\n",
    "features_linearbow_pos=(features_frame_linear_bow.loc[features_frame_linear_bow['weights'] > 0]) # Pos Features\n",
    "features_linearbow_neg=(features_frame_linear_bow.loc[features_frame_linear_bow['weights']<0]) #neg Features\n",
    "print(features_linearbow_pos[0:10])\n",
    "print(features_linearbow_neg[0:10])"
   ]
  },
  {
   "cell_type": "code",
   "execution_count": 0,
   "metadata": {
    "colab": {},
    "colab_type": "code",
    "id": "tbcLxx8CKPJU"
   },
   "outputs": [],
   "source": [
    "#############################################################################################################################################################"
   ]
  },
  {
   "cell_type": "markdown",
   "metadata": {
    "colab_type": "text",
    "id": "npFpHEmakYpH"
   },
   "source": [
    "## TF-IDF"
   ]
  },
  {
   "cell_type": "code",
   "execution_count": 73,
   "metadata": {
    "colab": {
     "base_uri": "https://localhost:8080/",
     "height": 85
    },
    "colab_type": "code",
    "id": "-EDGpravkYpJ",
    "outputId": "72ce018a-06dc-47f9-a3dd-81b082938e5d"
   },
   "outputs": [
    {
     "name": "stdout",
     "output_type": "stream",
     "text": [
      "After vectorizations\n",
      "(44890, 26893) (44890,)\n",
      "(22110, 26893) (22110,)\n",
      "(33000, 26893) (33000,)\n"
     ]
    }
   ],
   "source": [
    "tfidf_vect = TfidfVectorizer(ngram_range=(1,2), min_df=10).fit(X_train)\n",
    "X_train_tfidf=tfidf_vect.transform(X_train)\n",
    "X_test_tfidf=tfidf_vect.transform(X_test)\n",
    "X_cv_tfidf=tfidf_vect.transform(X_cv)\n",
    "print(\"After vectorizations\")\n",
    "print(X_train_tfidf.shape, y_train.shape)\n",
    "print(X_cv_tfidf.shape, y_cv.shape)\n",
    "print(X_test_tfidf.shape, y_test.shape)"
   ]
  },
  {
   "cell_type": "code",
   "execution_count": 75,
   "metadata": {
    "colab": {
     "base_uri": "https://localhost:8080/",
     "height": 294
    },
    "colab_type": "code",
    "id": "FzxG9Ls7inwi",
    "outputId": "136a1358-e425-498b-e7e6-f8f9936bfb8c"
   },
   "outputs": [
    {
     "data": {
      "image/png": "[encoded data removed]",
      "text/plain": [
       "<Figure size 432x288 with 1 Axes>"
      ]
     },
     "metadata": {
      "tags": []
     },
     "output_type": "display_data"
    }
   ],
   "source": [
    "#K = [10**-4,10**-2,10**0,10**2,10**4]\n",
    "\n",
    "#param_grid = {'alpha': K}\n",
    "model_tfidf = GridSearchCV(SGDClassifier(loss='hinge'), param_grid, cv=3 ,scoring = 'roc_auc')\n",
    "model_tfidf.fit(X_train_tfidf, y_train)\n",
    "train_auc_tfidf= model_tfidf.cv_results_['mean_train_score']\n",
    "train_auc_tfidf_std= model_tfidf.cv_results_['std_train_score']\n",
    "cv_auc_tfidf = model_tfidf.cv_results_['mean_test_score'] \n",
    "cv_auc_tfidf_std= model_tfidf.cv_results_['std_test_score']\n",
    "\n",
    "plt.plot(np.log(K), train_auc_tfidf, label='Train AUC')\n",
    "\n",
    "# this code is copied from here: https://stackoverflow.com/a/48803361/4084039\n",
    "plt.gca().fill_between(np.log(K),train_auc_tfidf - train_auc_tfidf_std,train_auc_tfidf + train_auc_tfidf_std,alpha=0.2,color='darkblue')\n",
    "\n",
    "plt.plot(np.log(K), cv_auc_tfidf, label='CV AUC')\n",
    "\n",
    "# this code is copied from here: https://stackoverflow.com/a/48803361/4084039\n",
    "plt.gca().fill_between(np.log(K),cv_auc_tfidf - cv_auc_tfidf_std,cv_auc_tfidf + cv_auc_tfidf_std,alpha=0.2,color='darkorange')\n",
    "\n",
    "plt.legend()\n",
    "plt.xlabel(\"K: hyperparameter\")\n",
    "plt.ylabel(\"AUC\")\n",
    "plt.title(\"ERROR PLOTS\")\n",
    "plt.show()"
   ]
  },
  {
   "cell_type": "code",
   "execution_count": 76,
   "metadata": {
    "colab": {
     "base_uri": "https://localhost:8080/",
     "height": 34
    },
    "colab_type": "code",
    "id": "mQwXrbGdjgea",
    "outputId": "b92972a9-ede5-44d1-bd20-5935d92aabd3"
   },
   "outputs": [
    {
     "name": "stdout",
     "output_type": "stream",
     "text": [
      "The optimal value of alpha(1/C) is :  0.0001\n"
     ]
    }
   ],
   "source": [
    "optimal_alpha_tfidf = model_tfidf.best_estimator_.alpha\n",
    "print(\"The optimal value of alpha(1/C) is : \",optimal_alpha_tfidf)"
   ]
  },
  {
   "cell_type": "code",
   "execution_count": 77,
   "metadata": {
    "colab": {
     "base_uri": "https://localhost:8080/",
     "height": 153
    },
    "colab_type": "code",
    "id": "hIV_08uMjgtq",
    "outputId": "840725e7-a8ea-47d5-c3f6-522f0f06e87c"
   },
   "outputs": [
    {
     "name": "stdout",
     "output_type": "stream",
     "text": [
      "\n",
      "The AUC socre test for value= 0.000100 is 0.832626%\n",
      "\n",
      "The AUC socre train for value= 0.000100 is 0.878444%\n",
      "\n",
      "The Error socre test for value= 0.000100 is 0.167374%\n",
      "\n",
      "The Error socre train for value= 0.000100 is 0.121556%\n"
     ]
    }
   ],
   "source": [
    "sgd_tf = SGDClassifier(alpha=optimal_alpha_tfidf,loss='hinge')\n",
    "sgd_tfidf=CalibratedClassifierCV(base_estimator=sgd_tf)\n",
    "sgd_tfidf.fit(X_train_tfidf,y_train)\n",
    "predictions_tfidf_test = sgd_tfidf.predict(X_test_tfidf)\n",
    "predictions_tfidf_train = sgd_tfidf.predict(X_train_tfidf)\n",
    "auc_tfidf_test=roc_auc_score(y_test, predictions_tfidf_test)\n",
    "auc_tfidf_train=roc_auc_score(y_train, predictions_tfidf_train)\n",
    "print('\\nThe AUC socre test for value= %f is %f%%' % (optimal_alpha_tfidf, auc_tfidf_test))\n",
    "print('\\nThe AUC socre train for value= %f is %f%%' % (optimal_alpha_tfidf, auc_tfidf_train))\n",
    "print('\\nThe Error socre test for value= %f is %f%%' % (optimal_alpha_tfidf, (1-auc_tfidf_test)))\n",
    "print('\\nThe Error socre train for value= %f is %f%%' % (optimal_alpha_tfidf, (1-auc_tfidf_train)))"
   ]
  },
  {
   "cell_type": "code",
   "execution_count": 78,
   "metadata": {
    "colab": {
     "base_uri": "https://localhost:8080/",
     "height": 413
    },
    "colab_type": "code",
    "id": "4Isdvn8Dl4Ye",
    "outputId": "ff063462-42d1-4ca7-ef78-9f1aa8bb3a85"
   },
   "outputs": [
    {
     "data": {
      "image/png": "[encoded data removed]",
      "text/plain": [
       "<Figure size 432x288 with 1 Axes>"
      ]
     },
     "metadata": {
      "tags": []
     },
     "output_type": "display_data"
    },
    {
     "name": "stdout",
     "output_type": "stream",
     "text": [
      "====================================================================================================\n",
      "Train confusion matrix\n",
      "[[ 5648  1664]\n",
      " [  584 36994]]\n",
      "Test confusion matrix\n",
      "[[ 3621  1617]\n",
      " [  723 27039]]\n"
     ]
    }
   ],
   "source": [
    "### Computing ROC curve \n",
    "#from sklearn import metrics\n",
    "y_test_predict_tfidf  =  sgd_tfidf.predict_proba(X_test_tfidf)[:,1]\n",
    "y_train_predict_tfidf =  sgd_tfidf.predict_proba(X_train_tfidf)[:,1]\n",
    "train_tfidf_fpr,train_tfidf_tpr,_ =  metrics.roc_curve(y_train,y_train_predict_tfidf) \n",
    "test_tfidf_fpr,test_tfidf_tpr, _ = metrics.roc_curve(y_test,y_test_predict_tfidf)\n",
    "\n",
    "roc_auc_test_tfidf = auc(test_tfidf_fpr, test_tfidf_tpr) \n",
    "roc_auc_train_tfidf = auc(train_tfidf_fpr,train_tfidf_tpr) \n",
    "### Plot\n",
    "plt.figure()\n",
    "#lw = 3 \n",
    "#plt.plot(train_fpr, train_tpr, color='navy',lw=lw, linestyle='--', label='ROC curve_train (area = %0.2f)' % roc_auc_train)\n",
    "plt.plot(train_tfidf_fpr,train_tfidf_tpr, color='navy',\n",
    "         lw=lw, linestyle='--', label='ROC curve_train (area = %0.2f)' % roc_auc_train_tfidf)\n",
    "\n",
    "plt.plot(test_tfidf_fpr,test_tfidf_tpr, color='darkorange', lw=lw,label='ROC curve_test (area = %0.2f)' % roc_auc_test_tfidf)\n",
    "plt.xlim([0.0, 1.0])\n",
    "plt.ylim([0.0, 1.05])\n",
    "plt.xlabel('False Positive Rate')\n",
    "plt.ylabel('True Positive Rate')\n",
    "plt.title('Roc_Auc curve')\n",
    "plt.legend()\n",
    "plt.show()\n",
    "\n",
    "print(\"=\"*100)\n",
    "\n",
    "#from sklearn.metrics import confusion_matrix\n",
    "print(\"Train confusion matrix\")\n",
    "linear_tfidf_train=confusion_matrix(y_train, sgd_tfidf.predict(X_train_tfidf))\n",
    "print(linear_tfidf_train)\n",
    "print(\"Test confusion matrix\")\n",
    "linear_tfidf_test=confusion_matrix(y_test, sgd_tfidf.predict(X_test_tfidf))\n",
    "print(linear_tfidf_test)"
   ]
  },
  {
   "cell_type": "code",
   "execution_count": 79,
   "metadata": {
    "colab": {
     "base_uri": "https://localhost:8080/",
     "height": 588
    },
    "colab_type": "code",
    "id": "tns9pD84l4kT",
    "outputId": "83301580-2c28-4a4c-b08d-fa53daabadc5"
   },
   "outputs": [
    {
     "data": {
      "image/png": "[encoded data removed]",
      "text/plain": [
       "<Figure size 432x288 with 2 Axes>"
      ]
     },
     "metadata": {
      "tags": []
     },
     "output_type": "display_data"
    },
    {
     "name": "stdout",
     "output_type": "stream",
     "text": [
      "************************************************************************************************************************\n"
     ]
    },
    {
     "data": {
      "image/png": "[encoded data removed]",
      "text/plain": [
       "<Figure size 432x288 with 2 Axes>"
      ]
     },
     "metadata": {
      "tags": []
     },
     "output_type": "display_data"
    }
   ],
   "source": [
    "#import seaborn as sns\n",
    "#class_label = [\"negative\", \"positive\"]\n",
    "linear_train_tfidf_heatmap = pd.DataFrame(linear_tfidf_train, index = class_label, columns = class_label)\n",
    "sns.heatmap(linear_train_tfidf_heatmap, annot = True, fmt = \"d\")\n",
    "plt.title(\"Confusion Matrix\")\n",
    "plt.xlabel(\"Predicted Label\")\n",
    "plt.ylabel(\"True Label\")\n",
    "plt.show()\n",
    "\n",
    "print('**'*60)\n",
    "\n",
    "linear_test_tfidf_heatmap = pd.DataFrame(linear_tfidf_test, index = class_label, columns = class_label)\n",
    "sns.heatmap(linear_test_tfidf_heatmap, annot = True, fmt = \"d\")\n",
    "plt.title(\"Confusion Matrix\")\n",
    "plt.xlabel(\"Predicted Label\")\n",
    "plt.ylabel(\"True Label\")\n",
    "plt.show()"
   ]
  },
  {
   "cell_type": "code",
   "execution_count": 80,
   "metadata": {
    "colab": {
     "base_uri": "https://localhost:8080/",
     "height": 408
    },
    "colab_type": "code",
    "id": "wmt9UtcOscHB",
    "outputId": "abb1f5f0-9e52-4639-840f-4b9071d18908"
   },
   "outputs": [
    {
     "name": "stdout",
     "output_type": "stream",
     "text": [
      "                    weights\n",
      "know first     1.930521e-07\n",
      "well add       1.682528e-05\n",
      "not happen     1.794419e-05\n",
      "healthy would  2.759582e-05\n",
      "still sweet    3.293142e-05\n",
      "bread good     3.433788e-05\n",
      "quite frankly  6.782758e-05\n",
      "try dog        7.071030e-05\n",
      "fresh like     7.764144e-05\n",
      "aloe vera      1.052469e-04\n",
      "                weights\n",
      "disappointed  -4.249723\n",
      "worst         -3.449438\n",
      "awful         -3.349544\n",
      "disappointing -3.208838\n",
      "not           -3.053056\n",
      "not buy       -3.051626\n",
      "not recommend -2.989407\n",
      "horrible      -2.945788\n",
      "terrible      -2.894470\n",
      "not good      -2.765629\n",
      "############################################################\n"
     ]
    }
   ],
   "source": [
    "features_linear_tfidf=np.asarray(tfidf_vect.get_feature_names())\n",
    "sgd_tf.fit(X_train_tfidf,y_train)\n",
    "features_linear_tfidf.shape\n",
    "w_linear_tfidf=sgd_tf.coef_\n",
    "weights_tfidf=np.transpose(w_linear_tfidf)\n",
    "features_frame_lineartfidf=pd.DataFrame(data=weights_tfidf,index=features_linear_tfidf,columns=['weights'])\n",
    "features_frame_linear_tfidf=features_frame_lineartfidf.sort_values(by=['weights'])\n",
    "features_lineartfidf_pos=(features_frame_linear_tfidf.loc[features_frame_linear_tfidf['weights'] > 0]) # Pos Features\n",
    "features_lineartfidf_neg=(features_frame_linear_tfidf.loc[features_frame_linear_tfidf['weights'] < 0]) \n",
    "print(features_lineartfidf_pos[0:10])\n",
    "print(features_lineartfidf_neg[0:10])\n",
    "print('#'*60)"
   ]
  },
  {
   "cell_type": "markdown",
   "metadata": {
    "colab_type": "text",
    "id": "fcW2Tp6rkYpT"
   },
   "source": [
    "## Word2Vec"
   ]
  },
  {
   "cell_type": "code",
   "execution_count": 0,
   "metadata": {
    "colab": {},
    "colab_type": "code",
    "id": "ouoJVnsJTu1j"
   },
   "outputs": [],
   "source": [
    "#W2V\n",
    "\n",
    "import re\n",
    "import string\n",
    "def cleanhtml(sentence): #function to clean the word of any html-tags\n",
    "    cleanr = re.compile('<.*?>')\n",
    "    cleantext = re.sub(cleanr, ' ', sentence)\n",
    "    return cleantext\n",
    "def cleanpunc(sentence): #function to clean the word of any punctuation or special character\n",
    "    cleaned = re.sub(r'[?|!|\\'|\"|#]',r'',sentence)\n",
    "    cleaned = re.sub(r'[.|,|)|(|\\|/]',r' ',cleaned)\n",
    "    return cleaned \n",
    "# Removing the Punctuations and HTML Tags tool\n",
    "\n",
    "from gensim.models import Word2Vec\n",
    "from gensim.models import KeyedVectors\n",
    "import pickle"
   ]
  },
  {
   "cell_type": "code",
   "execution_count": 0,
   "metadata": {
    "colab": {
     "base_uri": "https://localhost:8080/",
     "height": 88
    },
    "colab_type": "code",
    "id": "EoLkIStnULsw",
    "outputId": "20db40a5-0b1e-4178-d4c8-383a44af5383"
   },
   "outputs": [
    {
     "name": "stdout",
     "output_type": "stream",
     "text": [
      "Type of w2v_model <class 'gensim.models.word2vec.Word2Vec'>\n",
      "number of words that occured minimum 5 times  12882\n",
      "sample words  ['tangy', 'tomato', 'based', 'sauce', 'containing', 'lemon', 'cilantro', 'flavors', 'good', 'chicken', 'pork', 'serve', 'basmati', 'rice', 'quick', 'yummy', 'using', 'thai', 'kitchen', 'roasted', 'red', 'chili', 'paste', 'years', 'flavorful', 'without', 'hot', 'make', 'green', 'unroasted', 'never', 'liked', 'found', 'much', 'unfortunately', 'local', 'health', 'food', 'store', 'carries', 'ones', 'not', 'like', 'ordered', 'case', 'amazon', 'one', 'jar', 'leaking', 'oil']\n"
     ]
    }
   ],
   "source": [
    "import gensim\n",
    "i=0\n",
    "sent_of_train=[]\n",
    "for sentance in X_train:\n",
    "    sent_of_train.append(sentance.split())\n",
    "w2v_model=gensim.models.Word2Vec(sent_of_train,min_count=5,size=200, workers=4)    \n",
    "print(\"Type of w2v_model\",type(w2v_model))\n",
    "w2v_words = list(w2v_model.wv.vocab)\n",
    "print(\"number of words that occured minimum 5 times \",len(w2v_words))\n",
    "print(\"sample words \", w2v_words[0:50])"
   ]
  },
  {
   "cell_type": "code",
   "execution_count": 0,
   "metadata": {
    "colab": {},
    "colab_type": "code",
    "id": "Mq6LU4DWUr1J"
   },
   "outputs": [],
   "source": [
    "# List of sentence in X_test text\n",
    "sent_of_test=[]\n",
    "for sent1 in X_test:\n",
    "    sent_of_test.append(sent1.split())   \n",
    "#List of sentences in X_cv\n",
    "sent_of_cv=[]\n",
    "for sent2 in X_cv:\n",
    "    sent_of_cv.append(sent2.split())"
   ]
  },
  {
   "cell_type": "markdown",
   "metadata": {
    "colab_type": "text",
    "id": "lVY7XZrEkYqE"
   },
   "source": [
    "##  Avg W2V, TFIDF-W2V"
   ]
  },
  {
   "cell_type": "markdown",
   "metadata": {
    "colab_type": "text",
    "id": "XIFA9cw8kYqG"
   },
   "source": [
    "### Avg W2v"
   ]
  },
  {
   "cell_type": "code",
   "execution_count": 0,
   "metadata": {
    "colab": {},
    "colab_type": "code",
    "id": "byEYMAi-VFDn"
   },
   "outputs": [],
   "source": [
    "# compute average word2vec for each review for X_train .\n",
    "train_vectors = []; \n",
    "for senti in sent_of_train:\n",
    "    sent_vec_train = np.zeros(200) \n",
    "    cnt_words_train =0; \n",
    "    for wordi in senti: # \n",
    "        if wordi in w2v_words:\n",
    "            vec_train = w2v_model.wv[wordi]\n",
    "            sent_vec_train += vec_train\n",
    "            cnt_words_train += 1\n",
    "    if cnt_words_train != 0:\n",
    "        sent_vec_train /= cnt_words_train\n",
    "    train_vectors.append(sent_vec_train)\n",
    "    \n",
    "# compute average word2vec for each review for X_test .\n",
    "test_vectors = []; \n",
    "for sentj in sent_of_test:\n",
    "    sent_vec_test = np.zeros(200) \n",
    "    cnt_words_test =0; \n",
    "    for wordj in sentj: # \n",
    "        if wordj in w2v_words:\n",
    "            vec_test = w2v_model.wv[wordj]\n",
    "            sent_vec_test += vec_test\n",
    "            cnt_words_test += 1\n",
    "    if cnt_words_test != 0:\n",
    "        sent_vec_test /= cnt_words_test\n",
    "    test_vectors.append(sent_vec_test) \n",
    "    \n",
    "# compute average word2vec for each review for X_cv .\n",
    "cv_vectors = []; \n",
    "for sentk in sent_of_cv:\n",
    "    sent_vec_cv = np.zeros(200) \n",
    "    cnt_words_cv =0; \n",
    "    for wordk in sentk: # \n",
    "        if wordk in w2v_words:\n",
    "            vec_cv = w2v_model.wv[wordk]\n",
    "            sent_vec_cv += vec_cv\n",
    "            cnt_words_cv += 1\n",
    "    if cnt_words_cv != 0:\n",
    "        sent_vec_cv /= cnt_words_cv\n",
    "    cv_vectors.append(sent_vec_cv)\n",
    "    "
   ]
  },
  {
   "cell_type": "code",
   "execution_count": 0,
   "metadata": {
    "colab": {
     "base_uri": "https://localhost:8080/",
     "height": 294
    },
    "colab_type": "code",
    "id": "JDjY5i8BX61j",
    "outputId": "7fe8c597-cca3-40a1-d4e5-e74566f7e720"
   },
   "outputs": [
    {
     "data": {
      "image/png": "[encoded data removed]",
      "text/plain": [
       "<Figure size 432x288 with 1 Axes>"
      ]
     },
     "metadata": {
      "tags": []
     },
     "output_type": "display_data"
    }
   ],
   "source": [
    "#K = [10**-4,10**-2,10**0,10**2,10**4]\n",
    "\n",
    "#param_grid = {'alpha': K}\n",
    "model_avg = GridSearchCV(SGDClassifier(loss='hinge'), param_grid, cv=3 ,scoring = 'roc_auc')\n",
    "model_avg.fit(train_vectors, y_train)\n",
    "train_auc_avg= model_avg.cv_results_['mean_train_score']\n",
    "train_auc_avg_std= model_avg.cv_results_['std_train_score']\n",
    "cv_auc_avg = model_avg.cv_results_['mean_cv_score'] \n",
    "cv_auc_avg_std= model_avg.cv_results_['std_cv_score']\n",
    "\n",
    "plt.plot(np.log(K), train_auc_avg, label='Train AUC')\n",
    "\n",
    "# this code is copied from here: https://stackoverflow.com/a/48803361/4084039\n",
    "plt.gca().fill_between(np.log(K),train_auc_avg - train_auc_avg_std,train_auc_avg + train_auc_avg_std,alpha=0.2,color='darkblue')\n",
    "\n",
    "plt.plot(np.log(K), cv_auc_avg, label='CV AUC')\n",
    "\n",
    "# this code is copied from here: https://stackoverflow.com/a/48803361/4084039\n",
    "plt.gca().fill_between(np.log(K),cv_auc_avg - cv_auc_avg_std,cv_auc_avg + cv_auc_avg_std,alpha=0.2,color='darkorange')\n",
    "\n",
    "plt.legend()\n",
    "plt.xlabel(\"K: hyperparameter\")\n",
    "plt.ylabel(\"AUC\")\n",
    "plt.title(\"ERROR PLOTS\")\n",
    "plt.show()"
   ]
  },
  {
   "cell_type": "code",
   "execution_count": 0,
   "metadata": {
    "colab": {
     "base_uri": "https://localhost:8080/",
     "height": 34
    },
    "colab_type": "code",
    "id": "iBcxNiW-ZVIs",
    "outputId": "296ef029-0055-4a5d-93e1-163529ee6637"
   },
   "outputs": [
    {
     "name": "stdout",
     "output_type": "stream",
     "text": [
      "The optimal value of alpha(1/C) is :  0.01\n"
     ]
    }
   ],
   "source": [
    "optimal_alpha_avg = model_avg.best_estimator_.alpha\n",
    "print(\"The optimal value of alpha(1/C) is : \",optimal_alpha_avg)"
   ]
  },
  {
   "cell_type": "code",
   "execution_count": 0,
   "metadata": {
    "colab": {
     "base_uri": "https://localhost:8080/",
     "height": 153
    },
    "colab_type": "code",
    "id": "jSnREZV6Zr3S",
    "outputId": "6d6159b4-ddaa-4724-e1b8-b3c829df982d"
   },
   "outputs": [
    {
     "name": "stdout",
     "output_type": "stream",
     "text": [
      "\n",
      "The AUC socre test for value= 0.010000 is 0.701730%\n",
      "\n",
      "The AUC socre train for value= 0.010000 is 0.717761%\n",
      "\n",
      "The Error socre test for value= 0.010000 is 0.298270%\n",
      "\n",
      "The Error socre train for value= 0.010000 is 0.282239%\n"
     ]
    }
   ],
   "source": [
    "sgd_avg = SGDClassifier(alpha=optimal_alpha_avg,loss='hinge')\n",
    "sgd_avg=CalibratedClassifierCV(base_estimator=sgd_avg)\n",
    "sgd_avg.fit(train_vectors,y_train)\n",
    "predictions_avg_test = sgd_avg.predict(test_vectors)\n",
    "predictions_avg_train = sgd_avg.predict(train_vectors)\n",
    "auc_avg_test=roc_auc_score(y_test, predictions_avg_test)\n",
    "auc_avg_train=roc_auc_score(y_train, predictions_avg_train)\n",
    "print('\\nThe AUC socre test for value= %f is %f%%' % (optimal_alpha_avg, auc_avg_test))\n",
    "print('\\nThe AUC socre train for value= %f is %f%%' % (optimal_alpha_avg, auc_avg_train))\n",
    "print('\\nThe Error socre test for value= %f is %f%%' % (optimal_alpha_avg, (1-auc_avg_test)))\n",
    "print('\\nThe Error socre train for value= %f is %f%%' % (optimal_alpha_avg, (1-auc_avg_train)))"
   ]
  },
  {
   "cell_type": "code",
   "execution_count": 0,
   "metadata": {
    "colab": {
     "base_uri": "https://localhost:8080/",
     "height": 413
    },
    "colab_type": "code",
    "id": "K7nQWb8Dakri",
    "outputId": "826d41c8-c37b-4094-be87-3c9605bdb094"
   },
   "outputs": [
    {
     "data": {
      "image/png": "[encoded data removed]",
      "text/plain": [
       "<Figure size 432x288 with 1 Axes>"
      ]
     },
     "metadata": {
      "tags": []
     },
     "output_type": "display_data"
    },
    {
     "name": "stdout",
     "output_type": "stream",
     "text": [
      "====================================================================================================\n",
      "Train confusion matrix\n",
      "[[ 3374  3808]\n",
      " [ 1292 36416]]\n",
      "Test confusion matrix\n",
      "[[ 2313  2968]\n",
      " [  957 26762]]\n"
     ]
    }
   ],
   "source": [
    "### Computing ROC curve \n",
    "#from sklearn import metrics\n",
    "y_test_predict_avg  =  sgd_avg.predict_proba(test_vectors)[:,1]\n",
    "y_train_predict_avg =  sgd_avg.predict_proba(train_vectors)[:,1]\n",
    "train_avg_fpr,train_avg_tpr,_ =  metrics.roc_curve(y_train,y_train_predict_avg) \n",
    "test_avg_fpr,test_avg_tpr, _ = metrics.roc_curve(y_test,y_test_predict_avg)\n",
    "\n",
    "roc_auc_test_avg = auc(test_avg_fpr, test_avg_tpr) \n",
    "roc_auc_train_avg = auc(train_avg_fpr,train_avg_tpr) \n",
    "### Plot\n",
    "plt.figure()\n",
    "#lw = 3 \n",
    "#plt.plot(train_fpr, train_tpr, color='navy',lw=lw, linestyle='--', label='ROC curve_train (area = %0.2f)' % roc_auc_train)\n",
    "plt.plot(train_avg_fpr,train_avg_tpr, color='navy',\n",
    "         lw=lw, linestyle='--', label='ROC curve_train (area = %0.2f)' % roc_auc_train_avg)\n",
    "\n",
    "plt.plot(test_avg_fpr,test_avg_tpr, color='darkorange', lw=lw,label='ROC curve_test (area = %0.2f)' % roc_auc_test_avg)\n",
    "plt.xlim([0.0, 1.0])\n",
    "plt.ylim([0.0, 1.05])\n",
    "plt.xlabel('False Positive Rate')\n",
    "plt.ylabel('True Positive Rate')\n",
    "plt.title('Roc_Auc curve')\n",
    "plt.legend()\n",
    "plt.show()\n",
    "\n",
    "print(\"=\"*100)\n",
    "\n",
    "#from sklearn.metrics import confusion_matrix\n",
    "print(\"Train confusion matrix\")\n",
    "linear_avg_train=confusion_matrix(y_train, sgd_avg.predict(train_vectors))\n",
    "print(linear_avg_train)\n",
    "print(\"Test confusion matrix\")\n",
    "linear_avg_test=confusion_matrix(y_test, sgd_avg.predict(test_vectors))\n",
    "print(linear_avg_test)"
   ]
  },
  {
   "cell_type": "code",
   "execution_count": 0,
   "metadata": {
    "colab": {
     "base_uri": "https://localhost:8080/",
     "height": 588
    },
    "colab_type": "code",
    "id": "DB4UE3MfcTcR",
    "outputId": "b6098271-3cd9-4992-d9d2-2d778cfdc13b"
   },
   "outputs": [
    {
     "data": {
      "image/png": "[encoded data removed]",
      "text/plain": [
       "<Figure size 432x288 with 2 Axes>"
      ]
     },
     "metadata": {
      "tags": []
     },
     "output_type": "display_data"
    },
    {
     "name": "stdout",
     "output_type": "stream",
     "text": [
      "************************************************************************************************************************\n"
     ]
    },
    {
     "data": {
      "image/png": "[encoded data removed]",
      "text/plain": [
       "<Figure size 432x288 with 2 Axes>"
      ]
     },
     "metadata": {
      "tags": []
     },
     "output_type": "display_data"
    }
   ],
   "source": [
    "#import seaborn as sns\n",
    "#class_label = [\"negative\", \"positive\"]\n",
    "linear_train_avg_heatmap = pd.DataFrame(linear_avg_train, index = class_label, columns = class_label)\n",
    "sns.heatmap(linear_train_avg_heatmap, annot = True, fmt = \"d\")\n",
    "plt.title(\"Confusion Matrix\")\n",
    "plt.xlabel(\"Predicted Label\")\n",
    "plt.ylabel(\"True Label\")\n",
    "plt.show()\n",
    "\n",
    "print('**'*60)\n",
    "\n",
    "linear_test_avg_heatmap = pd.DataFrame(linear_avg_test, index = class_label, columns = class_label)\n",
    "sns.heatmap(linear_test_avg_heatmap, annot = True, fmt = \"d\")\n",
    "plt.title(\"Confusion Matrix\")\n",
    "plt.xlabel(\"Predicted Label\")\n",
    "plt.ylabel(\"True Label\")\n",
    "plt.show()"
   ]
  },
  {
   "cell_type": "markdown",
   "metadata": {
    "colab_type": "text",
    "id": "Ej_PeKdikYqk"
   },
   "source": [
    "### TFIDF weighted W2v"
   ]
  },
  {
   "cell_type": "code",
   "execution_count": 0,
   "metadata": {
    "colab": {},
    "colab_type": "code",
    "id": "uPrhlpoYVFoz"
   },
   "outputs": [],
   "source": [
    "# TF-IDF weighted Word2Vec\n",
    "tfidf_vectorizer = TfidfVectorizer()\n",
    "\n",
    "# final_tf_idf1 is the sparse matrix with row= sentence, col=word and cell_val = tfidf\n",
    "final_tfidf_train = tfidf_vectorizer.fit_transform(X_train)\n",
    "final_tfidf_test = tfidf_vectorizer.transform(X_test)\n",
    "final_tfidf_cv = tfidf_vectorizer.transform(X_cv)\n",
    "dictionary = dict(zip(tfidf_vectorizer.get_feature_names(), list(tfidf_vectorizer.idf_)))\n",
    "\n",
    "# tfidf words/col-names\n",
    "tfidf_featuress = tfidf_vectorizer.get_feature_names()\n",
    "\n",
    "# compute TFIDF Weighted Word2Vec for each review for X_train .\n",
    "tfidf_train_vectors = []; \n",
    "row=0;\n",
    "for senttrain in sent_of_train: \n",
    "    sent_vec_trains = np.zeros(200) \n",
    "    weight_sum_trains =0; \n",
    "    for word_trains in senttrain: \n",
    "        if word_trains in w2v_words and word_trains in tfidf_featuress:\n",
    "            vec_1 = w2v_model.wv[word_trains]\n",
    "            # obtain the tf_idfidf of a word in a sentence/review\n",
    "            #tfidf_train = final_tfidf_train[row, tfidf_features.index(word_train)]\n",
    "            tfidf_train = dictionary[word_trains]*(senttrain.count(word_trains)/len(senttrain))\n",
    "            sent_vec_trains += (vec_1 * tfidf_train)\n",
    "            weight_sum_trains += tfidf_train\n",
    "    if weight_sum_trains != 0:\n",
    "        sent_vec_trains /= weight_sum_trains\n",
    "    tfidf_train_vectors.append(sent_vec_trains)\n",
    "    row += 1"
   ]
  },
  {
   "cell_type": "code",
   "execution_count": 0,
   "metadata": {
    "colab": {
     "base_uri": "https://localhost:8080/",
     "height": 34
    },
    "colab_type": "code",
    "id": "30UNla-Piwj5",
    "outputId": "a5c4c78f-f950-4781-a8e3-e95825ade697"
   },
   "outputs": [
    {
     "name": "stderr",
     "output_type": "stream",
     "text": [
      "100%|██████████| 22110/22110 [09:44<00:00, 37.84it/s]\n"
     ]
    }
   ],
   "source": [
    "# compute TFIDF Weighted Word2Vec for each review for X_cv .\n",
    "tfidf_cv_vectors = []; \n",
    "#row=0;\n",
    "for sentcv in tqdm(sent_of_cv): \n",
    "    sent_vec_cvs = np.zeros(200) \n",
    "    weight_sum_cvs =0; \n",
    "    for word_cv in sentcv: \n",
    "        if word_cv in w2v_words and word_cv in tfidf_featuress:\n",
    "            vec_2 = w2v_model.wv[word_cv]\n",
    "            # obtain the tf_idfidf of a word in a sentence/review\n",
    "            #tfidf_cv = final_tfidf_cv[row, tfidf_features.index(word)]\n",
    "            tfidf_cv = dictionary[word_cv]*(sentcv.count(word_cv)/len(sentcv))\n",
    "            sent_vec_cvs += (vec_2 * tfidf_cv)\n",
    "            weight_sum_cvs += tfidf_cv\n",
    "    if weight_sum_cvs != 0:\n",
    "        sent_vec_cvs /= weight_sum_cvs\n",
    "    tfidf_cv_vectors.append(sent_vec_cvs)\n",
    "    row += 1"
   ]
  },
  {
   "cell_type": "code",
   "execution_count": 0,
   "metadata": {
    "colab": {
     "base_uri": "https://localhost:8080/",
     "height": 34
    },
    "colab_type": "code",
    "id": "3X88M-9DrCjm",
    "outputId": "b0d377c4-2f80-4d05-db99-fcd515e72e6c"
   },
   "outputs": [
    {
     "name": "stderr",
     "output_type": "stream",
     "text": [
      "100%|██████████| 33000/33000 [15:31<00:00, 35.44it/s]\n"
     ]
    }
   ],
   "source": [
    "# compute TFIDF Weighted Word2Vec for each review for X_test .\n",
    "tfidf_test_vectors = []; \n",
    "#row=0;\n",
    "for senttest in tqdm(sent_of_test): \n",
    "    sent_vec_tests = np.zeros(200) \n",
    "    weight_sum_tests =0; \n",
    "    for word_test in senttest: \n",
    "        if word_test in w2v_words and word_test in tfidf_featuress:\n",
    "            vec_3 = w2v_model.wv[word_test]\n",
    "            # obtain the tf_idfidf of a word in a sentence/review\n",
    "            #tfidf_test = final_tfidf_test[row, tfidf_features.index(word)]\n",
    "            tfidf_test = dictionary[word_test]*(senttest.count(word_test)/len(senttest))\n",
    "            sent_vec_tests += (vec_3 * tfidf_test)\n",
    "            weight_sum_tests += tfidf_test\n",
    "    if weight_sum_tests != 0:\n",
    "        sent_vec_tests /= weight_sum_tests\n",
    "    tfidf_test_vectors.append(sent_vec_tests)\n",
    "    row += 1"
   ]
  },
  {
   "cell_type": "code",
   "execution_count": 0,
   "metadata": {
    "colab": {
     "base_uri": "https://localhost:8080/",
     "height": 294
    },
    "colab_type": "code",
    "id": "XG3ciL76rZyF",
    "outputId": "9d1947a9-389d-4db9-fd14-9beb9e2947c2"
   },
   "outputs": [
    {
     "data": {
      "image/png": "[encoded data removed]",
      "text/plain": [
       "<Figure size 432x288 with 1 Axes>"
      ]
     },
     "metadata": {
      "tags": []
     },
     "output_type": "display_data"
    }
   ],
   "source": [
    "K = [10**-4,10**-2,10**0,10**2,10**4]\n",
    "\n",
    "param_grid = {'alpha': K}\n",
    "model_tfw2v = GridSearchCV(SGDClassifier(loss='hinge'), param_grid, cv=3 ,scoring = 'roc_auc')\n",
    "model_tfw2v.fit(tfidf_train_vectors, y_train)\n",
    "train_auc_tfw2v= model_tfw2v.cv_results_['mean_train_score']\n",
    "train_auc_tfw2v_std= model_tfw2v.cv_results_['std_train_score']\n",
    "cv_auc_tfw2v = model_tfw2v.cv_results_['mean_cv_score'] \n",
    "cv_auc_tfw2v_std= model_tfw2v.cv_results_['std_cv_score']\n",
    "\n",
    "plt.plot(np.log(K), train_auc_tfw2v, label='Train AUC')\n",
    "\n",
    "# this code is copied from here: https://stackoverflow.com/a/48803361/4084039\n",
    "plt.gca().fill_between(np.log(K),train_auc_tfw2v - train_auc_tfw2v_std,train_auc_tfw2v + train_auc_tfw2v_std,alpha=0.2,color='darkblue')\n",
    "\n",
    "plt.plot(np.log(K), cv_auc_tfw2v, label='CV AUC')\n",
    "\n",
    "# this code is copied from here: https://stackoverflow.com/a/48803361/4084039\n",
    "plt.gca().fill_between(np.log(K),cv_auc_tfw2v - cv_auc_tfw2v_std,cv_auc_tfw2v + cv_auc_tfw2v_std,alpha=0.2,color='darkorange')\n",
    "\n",
    "plt.legend()\n",
    "plt.xlabel(\"K: hyperparameter\")\n",
    "plt.ylabel(\"AUC\")\n",
    "plt.title(\"ERROR PLOTS\")\n",
    "plt.show()"
   ]
  },
  {
   "cell_type": "code",
   "execution_count": 0,
   "metadata": {
    "colab": {
     "base_uri": "https://localhost:8080/",
     "height": 34
    },
    "colab_type": "code",
    "id": "m_IoiGK6sSJV",
    "outputId": "28a6449b-3c12-4519-ee25-523b0c47698b"
   },
   "outputs": [
    {
     "name": "stdout",
     "output_type": "stream",
     "text": [
      "The optimal value of alpha(1/C) is :  0.01\n"
     ]
    }
   ],
   "source": [
    "optimal_alpha_tfw2v = model_tfw2v.best_estimator_.alpha\n",
    "print(\"The optimal value of alpha(1/C) is : \",optimal_alpha_tfw2v)"
   ]
  },
  {
   "cell_type": "code",
   "execution_count": 0,
   "metadata": {
    "colab": {
     "base_uri": "https://localhost:8080/",
     "height": 153
    },
    "colab_type": "code",
    "id": "WWlxqShKsV9A",
    "outputId": "9df42f0b-67f3-46ec-92e1-9aecaff7581b"
   },
   "outputs": [
    {
     "name": "stdout",
     "output_type": "stream",
     "text": [
      "\n",
      "The AUC socre test for value= 0.010000 is 0.667521%\n",
      "\n",
      "The AUC socre train for value= 0.010000 is 0.674797%\n",
      "\n",
      "The Error socre test for value= 0.010000 is 0.332479%\n",
      "\n",
      "The Error socre train for value= 0.010000 is 0.325203%\n"
     ]
    }
   ],
   "source": [
    "sgd_w2v = SGDClassifier(alpha=optimal_alpha_tfw2v,loss='hinge')\n",
    "sgd_tfw2v=CalibratedClassifierCV(base_estimator=sgd_w2v)\n",
    "sgd_tfw2v.fit(tfidf_train_vectors,y_train)\n",
    "predictions_tfw2v_test = sgd_tfw2v.predict(tfidf_test_vectors)\n",
    "predictions_tfw2v_train = sgd_tfw2v.predict(tfidf_train_vectors)\n",
    "auc_tfw2v_test=roc_auc_score(y_test, predictions_tfw2v_test)\n",
    "auc_tfw2v_train=roc_auc_score(y_train, predictions_tfw2v_train)\n",
    "print('\\nThe AUC socre test for value= %f is %f%%' % (optimal_alpha_tfw2v, auc_tfw2v_test))\n",
    "print('\\nThe AUC socre train for value= %f is %f%%' % (optimal_alpha_tfw2v, auc_tfw2v_train))\n",
    "print('\\nThe Error socre test for value= %f is %f%%' % (optimal_alpha_tfw2v, (1-auc_tfw2v_test)))\n",
    "print('\\nThe Error socre train for value= %f is %f%%' % (optimal_alpha_tfw2v, (1-auc_tfw2v_train)))"
   ]
  },
  {
   "cell_type": "code",
   "execution_count": 0,
   "metadata": {
    "colab": {
     "base_uri": "https://localhost:8080/",
     "height": 413
    },
    "colab_type": "code",
    "id": "lvDDn0wDtkWr",
    "outputId": "b707b4e8-7f68-41dd-a2e5-f51a99888147"
   },
   "outputs": [
    {
     "data": {
      "image/png": "[encoded data removed]",
      "text/plain": [
       "<Figure size 432x288 with 1 Axes>"
      ]
     },
     "metadata": {
      "tags": []
     },
     "output_type": "display_data"
    },
    {
     "name": "stdout",
     "output_type": "stream",
     "text": [
      "====================================================================================================\n",
      "Train confusion matrix\n",
      "[[ 2730  4450]\n",
      " [ 1155 36555]]\n",
      "Test confusion matrix\n",
      "[[ 1934  3390]\n",
      " [  781 26895]]\n"
     ]
    }
   ],
   "source": [
    "### Computing ROC curve \n",
    "from sklearn import metrics\n",
    "y_test_predict_tfw2v  =  sgd_tfw2v.predict_proba(tfidf_test_vectors)[:,1]\n",
    "y_train_predict_tfw2v =  sgd_tfw2v.predict_proba(tfidf_train_vectors)[:,1]\n",
    "train_tfw2v_fpr,train_tfw2v_tpr,_ =  metrics.roc_curve(y_train,y_train_predict_tfw2v) \n",
    "test_tfw2v_fpr,test_tfw2v_tpr, _ = metrics.roc_curve(y_test,y_test_predict_tfw2v)\n",
    "\n",
    "roc_auc_test_tfw2v = auc(test_tfw2v_fpr, test_tfw2v_tpr) \n",
    "roc_auc_train_tfw2v = auc(train_tfw2v_fpr,train_tfw2v_tpr) \n",
    "### Plot\n",
    "plt.figure()\n",
    "lw = 3 \n",
    "#plt.plot(train_fpr, train_tpr, color='navy',lw=lw, linestyle='--', label='ROC curve_train (area = %0.2f)' % roc_auc_train)\n",
    "plt.plot(train_tfw2v_fpr,train_tfw2v_tpr, color='navy',\n",
    "         lw=lw, linestyle='--', label='ROC curve_train (area = %0.2f)' % roc_auc_train_tfw2v)\n",
    "\n",
    "plt.plot(test_tfw2v_fpr,test_tfw2v_tpr, color='darkorange', lw=lw,label='ROC curve_test (area = %0.2f)' % roc_auc_test_tfw2v)\n",
    "plt.xlim([0.0, 1.0])\n",
    "plt.ylim([0.0, 1.05])\n",
    "plt.xlabel('False Positive Rate')\n",
    "plt.ylabel('True Positive Rate')\n",
    "plt.title('Roc_Auc curve')\n",
    "plt.legend()\n",
    "plt.show()\n",
    "\n",
    "print(\"=\"*100)\n",
    "\n",
    "#from sklearn.metrics import confusion_matrix\n",
    "print(\"Train confusion matrix\")\n",
    "linear_tfw2v_train=confusion_matrix(y_train, sgd_tfw2v.predict(tfidf_train_vectors))\n",
    "print(linear_tfw2v_train)\n",
    "print(\"Test confusion matrix\")\n",
    "linear_tfw2v_test=confusion_matrix(y_test, sgd_tfw2v.predict(tfidf_test_vectors))\n",
    "print(linear_tfw2v_test)"
   ]
  },
  {
   "cell_type": "code",
   "execution_count": 0,
   "metadata": {
    "colab": {
     "base_uri": "https://localhost:8080/",
     "height": 588
    },
    "colab_type": "code",
    "id": "czAk48vruPQP",
    "outputId": "59125593-2143-45c6-cab0-2320f43f9648"
   },
   "outputs": [
    {
     "data": {
      "image/png": "[encoded data removed]",
      "text/plain": [
       "<Figure size 432x288 with 2 Axes>"
      ]
     },
     "metadata": {
      "tags": []
     },
     "output_type": "display_data"
    },
    {
     "name": "stdout",
     "output_type": "stream",
     "text": [
      "************************************************************************************************************************\n"
     ]
    },
    {
     "data": {
      "image/png": "[encoded data removed]",
      "text/plain": [
       "<Figure size 432x288 with 2 Axes>"
      ]
     },
     "metadata": {
      "tags": []
     },
     "output_type": "display_data"
    }
   ],
   "source": [
    "import seaborn as sns\n",
    "class_label = [\"negative\", \"positive\"]\n",
    "linear_train_tfw2v_heatmap = pd.DataFrame(linear_tfw2v_train, index = class_label, columns = class_label)\n",
    "sns.heatmap(linear_train_tfw2v_heatmap, annot = True, fmt = \"d\")\n",
    "plt.title(\"Confusion Matrix\")\n",
    "plt.xlabel(\"Predicted Label\")\n",
    "plt.ylabel(\"True Label\")\n",
    "plt.show()\n",
    "\n",
    "print('**'*60)\n",
    "\n",
    "linear_test_tfw2v_heatmap = pd.DataFrame(linear_tfw2v_test, index = class_label, columns = class_label)\n",
    "sns.heatmap(linear_test_tfw2v_heatmap, annot = True, fmt = \"d\")\n",
    "plt.title(\"Confusion Matrix\")\n",
    "plt.xlabel(\"Predicted Label\")\n",
    "plt.ylabel(\"True Label\")\n",
    "plt.show()"
   ]
  },
  {
   "cell_type": "markdown",
   "metadata": {
    "colab_type": "text",
    "id": "Q1gKjkauXPRr"
   },
   "source": [
    "### Note :-    By Observing to all NLP models that i have applied,  the TFIDF has got the best results with SGDClassifier. So, According to given suggestions in class room, I am applying SVC on TFIDF\n"
   ]
  },
  {
   "cell_type": "markdown",
   "metadata": {
    "colab_type": "text",
    "id": "tXuEGvEn0EHu"
   },
   "source": [
    "## RBF-Kernal"
   ]
  },
  {
   "cell_type": "markdown",
   "metadata": {
    "colab_type": "text",
    "id": "zAtd_yq90cf7"
   },
   "source": [
    "### Applying TFIDF"
   ]
  },
  {
   "cell_type": "code",
   "execution_count": 0,
   "metadata": {
    "colab": {},
    "colab_type": "code",
    "id": "vuqXTZCKYTUC"
   },
   "outputs": [],
   "source": []
  },
  {
   "cell_type": "code",
   "execution_count": 0,
   "metadata": {
    "colab": {
     "base_uri": "https://localhost:8080/",
     "height": 294
    },
    "colab_type": "code",
    "id": "SQ6mbDM90IfO",
    "outputId": "1fb094d7-dfe3-4b97-81ff-1335bf00c422"
   },
   "outputs": [
    {
     "data": {
      "image/png": "[encoded data removed]",
      "text/plain": [
       "<Figure size 432x288 with 1 Axes>"
      ]
     },
     "metadata": {
      "tags": []
     },
     "output_type": "display_data"
    }
   ],
   "source": [
    "from sklearn.svm import SVC\n",
    "K = [10**-4,10**-2,10**0,10**2,10**4]\n",
    "\n",
    "param_grid = {'C': K}\n",
    "model_tfidf = GridSearchCV(SVC(probability=True), param_grid, cv=3 ,scoring = 'roc_auc')\n",
    "model_tfidf.fit(X_train_tfidf, y_train)\n",
    "train_auc_tfidf= model_tfidf.cv_results_['mean_train_score']\n",
    "train_auc_tfidf_std= model_tfidf.cv_results_['std_train_score']\n",
    "cv_auc_tfidf = model_tfidf.cv_results_['mean_test_score'] \n",
    "cv_auc_tfidf_std= model_tfidf.cv_results_['std_test_score']\n",
    "\n",
    "plt.plot(np.log(K), train_auc_tfidf, label='Train AUC')\n",
    "\n",
    "# this code is copied from here: https://stackoverflow.com/a/48803361/4084039\n",
    "plt.gca().fill_between(np.log(K),train_auc_tfidf - train_auc_tfidf_std,train_auc_tfidf + train_auc_tfidf_std,alpha=0.2,color='darkblue')\n",
    "\n",
    "plt.plot(np.log(K), cv_auc_tfidf, label='CV AUC')\n",
    "\n",
    "# this code is copied from here: https://stackoverflow.com/a/48803361/4084039\n",
    "plt.gca().fill_between(np.log(K),cv_auc_tfidf - cv_auc_tfidf_std,cv_auc_tfidf + cv_auc_tfidf_std,alpha=0.2,color='darkorange')\n",
    "\n",
    "plt.legend()\n",
    "plt.xlabel(\"K: hyperparameter\")\n",
    "plt.ylabel(\"AUC\")\n",
    "plt.title(\"ERROR PLOTS\")\n",
    "plt.show()"
   ]
  },
  {
   "cell_type": "code",
   "execution_count": 0,
   "metadata": {
    "colab": {
     "base_uri": "https://localhost:8080/",
     "height": 34
    },
    "colab_type": "code",
    "id": "AVOendRnY-Cy",
    "outputId": "ccc38860-4093-4e54-e5c1-9dfc14fa0237"
   },
   "outputs": [
    {
     "name": "stdout",
     "output_type": "stream",
     "text": [
      "The optimal value of C is :  10000\n"
     ]
    }
   ],
   "source": [
    "optimal_C = model_tfidf.best_estimator_.C\n",
    "print(\"The optimal value of C is : \",optimal_C)"
   ]
  },
  {
   "cell_type": "code",
   "execution_count": 0,
   "metadata": {
    "colab": {
     "base_uri": "https://localhost:8080/",
     "height": 153
    },
    "colab_type": "code",
    "id": "il7HA40eZPDV",
    "outputId": "08853d12-4d61-4c4f-f417-5e74bf0a76c9"
   },
   "outputs": [
    {
     "name": "stdout",
     "output_type": "stream",
     "text": [
      "\n",
      "The AUC socre test for value= 10000.000000 is 0.823596%\n",
      "\n",
      "The AUC socre train for value= 10000.000000 is 0.898723%\n",
      "\n",
      "The Error socre test for value= 10000.000000 is 0.176404%\n",
      "\n",
      "The Error socre train for value= 10000.000000 is 0.101277%\n"
     ]
    }
   ],
   "source": [
    "# SVC with RBF kernel with Optimal value of C\n",
    "svc = SVC(C=optimal_C,probability=True)\n",
    "svc.fit(X_train_tfidf,y_train)\n",
    "predictions_tfidf_test = svc.predict(X_test_tfidf)\n",
    "predictions_tfidf_train = svc.predict(X_train_tfidf)\n",
    "auc_tfidf_test=roc_auc_score(y_test, predictions_tfidf_test)\n",
    "auc_tfidf_train=roc_auc_score(y_train, predictions_tfidf_train)\n",
    "print('\\nThe AUC socre test for value= %f is %f%%' % (optimal_C, auc_tfidf_test))\n",
    "print('\\nThe AUC socre train for value= %f is %f%%' % (optimal_C, auc_tfidf_train))\n",
    "print('\\nThe Error socre test for value= %f is %f%%' % (optimal_C, (1-auc_tfidf_test)))\n",
    "print('\\nThe Error socre train for value= %f is %f%%' % (optimal_C, (1-auc_tfidf_train)))\n"
   ]
  },
  {
   "cell_type": "code",
   "execution_count": 0,
   "metadata": {
    "colab": {
     "base_uri": "https://localhost:8080/",
     "height": 413
    },
    "colab_type": "code",
    "id": "WalZbsvD0b5T",
    "outputId": "2b799ec1-87ce-464a-902d-48d72687c1c4"
   },
   "outputs": [
    {
     "data": {
      "image/png": "[encoded data removed]",
      "text/plain": [
       "<Figure size 432x288 with 1 Axes>"
      ]
     },
     "metadata": {
      "tags": []
     },
     "output_type": "display_data"
    },
    {
     "name": "stdout",
     "output_type": "stream",
     "text": [
      "====================================================================================================\n",
      "Train confusion matrix\n",
      "[[ 5725  1396]\n",
      " [  246 37523]]\n",
      "Test confusion matrix\n",
      "[[ 3495  1755]\n",
      " [  514 27236]]\n"
     ]
    }
   ],
   "source": [
    "### Computing ROC curve \n",
    "from sklearn import metrics\n",
    "y_test_predict_tfidf  =  svc.predict_proba(X_test_tfidf)[:,1]\n",
    "y_train_predict_tfidf =  svc.predict_proba(X_train_tfidf)[:,1]\n",
    "train_tfidf_fpr,train_tfidf_tpr,_ =  metrics.roc_curve(y_train,y_train_predict_tfidf) \n",
    "test_tfidf_fpr,test_tfidf_tpr, _ = metrics.roc_curve(y_test,y_test_predict_tfidf)\n",
    "\n",
    "roc_auc_test_tfidf = auc(test_tfidf_fpr, test_tfidf_tpr) \n",
    "roc_auc_train_tfidf = auc(train_tfidf_fpr,train_tfidf_tpr) \n",
    "### Plot\n",
    "plt.figure()\n",
    "lw = 3 \n",
    "#plt.plot(train_fpr, train_tpr, color='navy',lw=lw, linestyle='--', label='ROC curve_train (area = %0.2f)' % roc_auc_train)\n",
    "plt.plot(train_tfidf_fpr,train_tfidf_tpr, color='navy',\n",
    "         lw=lw, linestyle='--', label='ROC curve_train (area = %0.2f)' % roc_auc_train_tfidf)\n",
    "\n",
    "plt.plot(test_tfidf_fpr,test_tfidf_tpr, color='darkorange', lw=lw,label='ROC curve_test (area = %0.2f)' % roc_auc_test_tfidf)\n",
    "plt.xlim([0.0, 1.0])\n",
    "plt.ylim([0.0, 1.05])\n",
    "plt.xlabel('False Positive Rate')\n",
    "plt.ylabel('True Positive Rate')\n",
    "plt.title('Roc_Auc curve')\n",
    "plt.legend()\n",
    "plt.show()\n",
    "\n",
    "print(\"=\"*100)\n",
    "\n",
    "from sklearn.metrics import confusion_matrix\n",
    "print(\"Train confusion matrix\")\n",
    "rbf_tfidf_train=confusion_matrix(y_train, svc.predict(X_train_tfidf))\n",
    "print(rbf_tfidf_train)\n",
    "print(\"Test confusion matrix\")\n",
    "rbf_tfidf_test=confusion_matrix(y_test, svc.predict(X_test_tfidf))\n",
    "print(rbf_tfidf_test)"
   ]
  },
  {
   "cell_type": "code",
   "execution_count": 0,
   "metadata": {
    "colab": {
     "base_uri": "https://localhost:8080/",
     "height": 588
    },
    "colab_type": "code",
    "id": "rCGFcnDx0fVE",
    "outputId": "9402ea89-f920-42bb-8246-cd8751afcc14"
   },
   "outputs": [
    {
     "data": {
      "image/png": "[encoded data removed]",
      "text/plain": [
       "<Figure size 432x288 with 2 Axes>"
      ]
     },
     "metadata": {
      "tags": []
     },
     "output_type": "display_data"
    },
    {
     "name": "stdout",
     "output_type": "stream",
     "text": [
      "************************************************************************************************************************\n"
     ]
    },
    {
     "data": {
      "image/png": "[encoded data removed]",
      "text/plain": [
       "<Figure size 432x288 with 2 Axes>"
      ]
     },
     "metadata": {
      "tags": []
     },
     "output_type": "display_data"
    }
   ],
   "source": [
    "import seaborn as sns\n",
    "class_label = [\"negative\", \"positive\"]\n",
    "rbf_train_tfidf_heatmap = pd.DataFrame(rbf_tfidf_train, index = class_label, columns = class_label)\n",
    "sns.heatmap(rbf_train_tfidf_heatmap, annot = True, fmt = \"d\")\n",
    "plt.title(\"Confusion Matrix\")\n",
    "plt.xlabel(\"Predicted Label\")\n",
    "plt.ylabel(\"True Label\")\n",
    "plt.show()\n",
    "\n",
    "print('**'*60)\n",
    "\n",
    "rbf_test_tfidf_heatmap = pd.DataFrame(rbf_tfidf_test, index = class_label, columns = class_label)\n",
    "sns.heatmap(rbf_test_tfidf_heatmap, annot = True, fmt = \"d\")\n",
    "plt.title(\"Confusion Matrix\")\n",
    "plt.xlabel(\"Predicted Label\")\n",
    "plt.ylabel(\"True Label\")\n",
    "plt.show()"
   ]
  },
  {
   "cell_type": "markdown",
   "metadata": {},
   "source": [
    "## Conclusions section"
   ]
  },
  {
   "cell_type": "raw",
   "metadata": {
    "colab": {},
    "colab_type": "code",
    "id": "kKz76OFZ0Hzw"
   },
   "source": [
    "|--------------------------------------------------|\n",
    "|Model  | Featurization | Train Error | Test Error |\n",
    "|-------|---------------|-------------|------------|\n",
    "|       | Bag of words  | 0.206390    | 0.226593   |\n",
    "|       |---------------|-------------|------------|\n",
    "|       |TFIDF Vectorizr|   0.121556  | 0.167374   |\n",
    "|       |---------------|-------------|------------|\n",
    "|Linear |AVG W2V        | 0.282239    |  0.298270  |\n",
    "|       |---------------|-------------|------------|\n",
    "|       |TFIDF W2V      | 0.325203    |  0.332479  |\n",
    "|-------|------------------------------------------|\n",
    "** By Suggested in class room, I have applied RBF-Kernal on TFIDF**\n",
    "------------------------|-------------|------------|\n",
    "|RBF-   |               |             |            |\n",
    "|Kernal | TFIDF         | 0.101277    |  0.176404  |\n",
    "|-------|---------------|-------------|------------|"
   ]
  }
 ],
 "metadata": {
  "accelerator": "GPU",
  "colab": {
   "collapsed_sections": [],
   "name": "Amazon Fine Food Reviews Analysis_Support Vector Machines.ipynb",
   "provenance": [],
   "version": "0.3.2"
  },
  "kernelspec": {
   "display_name": "Python 3",
   "language": "python",
   "name": "python3"
  },
  "language_info": {
   "codemirror_mode": {
    "name": "ipython",
    "version": 3
   },
   "file_extension": ".py",
   "mimetype": "text/x-python",
   "name": "python",
   "nbconvert_exporter": "python",
   "pygments_lexer": "ipython3",
   "version": "3.6.5"
  }
 },
 "nbformat": 4,
 "nbformat_minor": 1
}
